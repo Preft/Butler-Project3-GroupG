{
 "cells": [
  {
   "cell_type": "markdown",
   "metadata": {},
   "source": [
    "# Econmic Model 1: Predict Retail with 9 features\n",
    "## Random Forest Decision Tree\n",
    "This model employs a Random Forest Regressor Decision Tree algorithm to predict retail coffe price bassed on economic metrics such as  supply, trade, inventories, consumption, energy costs, and commodity pricing data. Data was obtained from International Coffee Organization (The ICO Historic Data). "
   ]
  },
  {
   "cell_type": "markdown",
   "metadata": {},
   "source": [
    "### Scoring Metrics:\n",
    "- Training Data Score: 0.9597823614739235\n",
    "- Testing Data Score: 0.8959434042614792\n",
    "- MSE:  0.12347079250000448\n",
    "- RMSE:  0.06173539625000224"
   ]
  },
  {
   "cell_type": "code",
   "execution_count": 1,
   "metadata": {},
   "outputs": [],
   "source": [
    "# Dependencies\n",
    "import pandas as pd\n",
    "from sklearn.preprocessing import LabelEncoder\n",
    "import numpy as np\n",
    "from sklearn import tree\n",
    "import os\n",
    "import matplotlib.pyplot as plt"
   ]
  },
  {
   "cell_type": "code",
   "execution_count": 2,
   "metadata": {},
   "outputs": [],
   "source": [
    "# Machine learning libraries\n",
    "from sklearn.model_selection import cross_val_score, GridSearchCV\n",
    "from sklearn.ensemble import RandomForestRegressor\n",
    "from sklearn.preprocessing import MinMaxScaler\n",
    "from sklearn.metrics import mean_squared_error"
   ]
  },
  {
   "cell_type": "code",
   "execution_count": null,
   "metadata": {},
   "outputs": [],
   "source": []
  },
  {
   "cell_type": "code",
   "execution_count": 32,
   "metadata": {},
   "outputs": [],
   "source": [
    "# import processed data\n",
    "path = \"Trends/\"\n",
    "file = \"finalFeatures.csv\"\n",
    "path_file = path + file\n",
    "df = pd.read_csv(path_file)\n",
    "#df"
   ]
  },
  {
   "cell_type": "code",
   "execution_count": 4,
   "metadata": {},
   "outputs": [
    {
     "data": {
      "text/plain": [
       "(29, 11)"
      ]
     },
     "execution_count": 4,
     "metadata": {},
     "output_type": "execute_result"
    }
   ],
   "source": [
    "df.shape"
   ]
  },
  {
   "cell_type": "code",
   "execution_count": 33,
   "metadata": {},
   "outputs": [],
   "source": [
    "# Optimize data\n",
    "# Best combination was 9 features\n",
    "\n",
    "df = df.drop(columns =['Coffe Imports (In 1K 60-kg bags) Calendar Year 137c',\n",
    "                  ])\n",
    "#df"
   ]
  },
  {
   "cell_type": "code",
   "execution_count": 34,
   "metadata": {},
   "outputs": [
    {
     "data": {
      "text/plain": [
       "(29, 10)"
      ]
     },
     "execution_count": 34,
     "metadata": {},
     "output_type": "execute_result"
    }
   ],
   "source": [
    "df.shape"
   ]
  },
  {
   "cell_type": "code",
   "execution_count": null,
   "metadata": {},
   "outputs": [],
   "source": []
  },
  {
   "cell_type": "code",
   "execution_count": 35,
   "metadata": {},
   "outputs": [
    {
     "data": {
      "text/html": [
       "<div>\n",
       "<style scoped>\n",
       "    .dataframe tbody tr th:only-of-type {\n",
       "        vertical-align: middle;\n",
       "    }\n",
       "\n",
       "    .dataframe tbody tr th {\n",
       "        vertical-align: top;\n",
       "    }\n",
       "\n",
       "    .dataframe thead th {\n",
       "        text-align: right;\n",
       "    }\n",
       "</style>\n",
       "<table border=\"1\" class=\"dataframe\">\n",
       "  <thead>\n",
       "    <tr style=\"text-align: right;\">\n",
       "      <th></th>\n",
       "      <th>Year</th>\n",
       "      <th>Brent ave closing USD</th>\n",
       "      <th>Coffe Export (In 1K 60-kg bags) crop year</th>\n",
       "      <th>Coffe Produciton (In 1K 60-kg bags) crop year</th>\n",
       "      <th>Domestic Consumption (In 1K 60-kg bags)</th>\n",
       "      <th>ICO composite (USD $/lb)</th>\n",
       "      <th>Inventories (In 1K 60-kg bags)</th>\n",
       "      <th>re-exports (In 1K 60-kg bags) Calendar Year 35c</th>\n",
       "      <th>WTI ave closing price USD</th>\n",
       "    </tr>\n",
       "  </thead>\n",
       "  <tbody>\n",
       "    <tr>\n",
       "      <th>0</th>\n",
       "      <td>1990</td>\n",
       "      <td>23.76</td>\n",
       "      <td>73887</td>\n",
       "      <td>93230</td>\n",
       "      <td>19509</td>\n",
       "      <td>0.72</td>\n",
       "      <td>15619</td>\n",
       "      <td>8769</td>\n",
       "      <td>24.53</td>\n",
       "    </tr>\n",
       "    <tr>\n",
       "      <th>1</th>\n",
       "      <td>1991</td>\n",
       "      <td>20.04</td>\n",
       "      <td>79768</td>\n",
       "      <td>101269</td>\n",
       "      <td>20228</td>\n",
       "      <td>0.67</td>\n",
       "      <td>13200</td>\n",
       "      <td>9770</td>\n",
       "      <td>21.54</td>\n",
       "    </tr>\n",
       "    <tr>\n",
       "      <th>2</th>\n",
       "      <td>1992</td>\n",
       "      <td>19.32</td>\n",
       "      <td>76957</td>\n",
       "      <td>98523</td>\n",
       "      <td>20951</td>\n",
       "      <td>0.53</td>\n",
       "      <td>16843</td>\n",
       "      <td>10691</td>\n",
       "      <td>20.58</td>\n",
       "    </tr>\n",
       "    <tr>\n",
       "      <th>3</th>\n",
       "      <td>1993</td>\n",
       "      <td>17.01</td>\n",
       "      <td>74130</td>\n",
       "      <td>91762</td>\n",
       "      <td>21098</td>\n",
       "      <td>0.62</td>\n",
       "      <td>14218</td>\n",
       "      <td>11041</td>\n",
       "      <td>18.43</td>\n",
       "    </tr>\n",
       "    <tr>\n",
       "      <th>4</th>\n",
       "      <td>1994</td>\n",
       "      <td>15.86</td>\n",
       "      <td>65962</td>\n",
       "      <td>93314</td>\n",
       "      <td>21360</td>\n",
       "      <td>1.34</td>\n",
       "      <td>12667</td>\n",
       "      <td>12833</td>\n",
       "      <td>17.20</td>\n",
       "    </tr>\n",
       "  </tbody>\n",
       "</table>\n",
       "</div>"
      ],
      "text/plain": [
       "   Year  Brent ave closing USD  Coffe Export (In 1K 60-kg bags) crop year  \\\n",
       "0  1990                  23.76                                      73887   \n",
       "1  1991                  20.04                                      79768   \n",
       "2  1992                  19.32                                      76957   \n",
       "3  1993                  17.01                                      74130   \n",
       "4  1994                  15.86                                      65962   \n",
       "\n",
       "   Coffe Produciton (In 1K 60-kg bags) crop year  \\\n",
       "0                                          93230   \n",
       "1                                         101269   \n",
       "2                                          98523   \n",
       "3                                          91762   \n",
       "4                                          93314   \n",
       "\n",
       "   Domestic Consumption (In 1K 60-kg bags)  ICO composite (USD $/lb)  \\\n",
       "0                                    19509                      0.72   \n",
       "1                                    20228                      0.67   \n",
       "2                                    20951                      0.53   \n",
       "3                                    21098                      0.62   \n",
       "4                                    21360                      1.34   \n",
       "\n",
       "   Inventories (In 1K 60-kg bags)  \\\n",
       "0                           15619   \n",
       "1                           13200   \n",
       "2                           16843   \n",
       "3                           14218   \n",
       "4                           12667   \n",
       "\n",
       "   re-exports (In 1K 60-kg bags) Calendar Year 35c  WTI ave closing price USD  \n",
       "0                                             8769                      24.53  \n",
       "1                                             9770                      21.54  \n",
       "2                                            10691                      20.58  \n",
       "3                                            11041                      18.43  \n",
       "4                                            12833                      17.20  "
      ]
     },
     "execution_count": 35,
     "metadata": {},
     "output_type": "execute_result"
    }
   ],
   "source": [
    "# Create dataframe for running decision tree\n",
    "# This was done to upload existing code with similar variables\n",
    "# Main Data set: data_df\n",
    "\n",
    "data_df = df.drop(\"retail\", axis=1)\n",
    "target = df[\"retail\"]\n",
    "Years = df[\"Year\"]\n",
    "\n",
    "\n",
    "feature_names = data_df.columns\n",
    "data_df.head()"
   ]
  },
  {
   "cell_type": "code",
   "execution_count": 36,
   "metadata": {},
   "outputs": [],
   "source": [
    "# needed for ploting final graph\n",
    "# Years"
   ]
  },
  {
   "cell_type": "code",
   "execution_count": 9,
   "metadata": {},
   "outputs": [
    {
     "name": "stdout",
     "output_type": "stream",
     "text": [
      "(29, 9)\n",
      "(29,)\n"
     ]
    }
   ],
   "source": [
    "# Create dataframe for running decision tree\n",
    "# This was done to upload existing code with similar variables\n",
    "# Main Data set: data_df\n",
    "\n",
    "x = df.drop(\"retail\", axis=1)\n",
    "y = df[\"retail\"]\n",
    "target = y\n",
    "data_df = x\n",
    "print(x.shape)\n",
    "print(y.shape)"
   ]
  },
  {
   "cell_type": "markdown",
   "metadata": {},
   "source": [
    "### RandomForestRegressor"
   ]
  },
  {
   "cell_type": "code",
   "execution_count": 10,
   "metadata": {},
   "outputs": [],
   "source": [
    "from sklearn.model_selection import train_test_split\n",
    "X_train, X_test, y_train, y_test = train_test_split(x, y, random_state=42)"
   ]
  },
  {
   "cell_type": "code",
   "execution_count": 11,
   "metadata": {},
   "outputs": [
    {
     "data": {
      "text/plain": [
       "0.907418659296"
      ]
     },
     "execution_count": 11,
     "metadata": {},
     "output_type": "execute_result"
    }
   ],
   "source": [
    "#from sklearn.ensemble import RandomForestRegressor\n",
    "Econ_model = RandomForestRegressor(n_estimators=200)\n",
    "Econ_model = Econ_model.fit(X_train, y_train)\n",
    "Econ_model.score(X_test, y_test)"
   ]
  },
  {
   "cell_type": "code",
   "execution_count": 12,
   "metadata": {},
   "outputs": [
    {
     "name": "stdout",
     "output_type": "stream",
     "text": [
      "Test Acc: 0.907\n"
     ]
    }
   ],
   "source": [
    "print('Test Acc: %.3f' % Econ_model.score(X_test, y_test))"
   ]
  },
  {
   "cell_type": "code",
   "execution_count": 26,
   "metadata": {},
   "outputs": [
    {
     "name": "stdout",
     "output_type": "stream",
     "text": [
      "Training Data Score: 0.9576906545597044\n",
      "Testing Data Score: 0.907418659296\n"
     ]
    }
   ],
   "source": [
    "print(f\"Training Data Score: {Econ_model.score(X_train, y_train)}\")\n",
    "print(f\"Testing Data Score: {Econ_model.score(X_test, y_test)}\")"
   ]
  },
  {
   "cell_type": "code",
   "execution_count": 31,
   "metadata": {},
   "outputs": [
    {
     "data": {
      "text/html": [
       "<div>\n",
       "<style scoped>\n",
       "    .dataframe tbody tr th:only-of-type {\n",
       "        vertical-align: middle;\n",
       "    }\n",
       "\n",
       "    .dataframe tbody tr th {\n",
       "        vertical-align: top;\n",
       "    }\n",
       "\n",
       "    .dataframe thead th {\n",
       "        text-align: right;\n",
       "    }\n",
       "</style>\n",
       "<table border=\"1\" class=\"dataframe\">\n",
       "  <thead>\n",
       "    <tr style=\"text-align: right;\">\n",
       "      <th></th>\n",
       "      <th>Feature</th>\n",
       "      <th>Impact</th>\n",
       "    </tr>\n",
       "  </thead>\n",
       "  <tbody>\n",
       "    <tr>\n",
       "      <th>0</th>\n",
       "      <td>ICO composite (USD $/lb)</td>\n",
       "      <td>0.5821</td>\n",
       "    </tr>\n",
       "    <tr>\n",
       "      <th>1</th>\n",
       "      <td>Brent ave closing USD</td>\n",
       "      <td>0.0762</td>\n",
       "    </tr>\n",
       "    <tr>\n",
       "      <th>2</th>\n",
       "      <td>Coffe Export (In 1K 60-kg bags) crop year</td>\n",
       "      <td>0.0571</td>\n",
       "    </tr>\n",
       "    <tr>\n",
       "      <th>3</th>\n",
       "      <td>Domestic Consumption (In 1K 60-kg bags)</td>\n",
       "      <td>0.0546</td>\n",
       "    </tr>\n",
       "    <tr>\n",
       "      <th>4</th>\n",
       "      <td>WTI ave closing price USD</td>\n",
       "      <td>0.0535</td>\n",
       "    </tr>\n",
       "    <tr>\n",
       "      <th>5</th>\n",
       "      <td>Coffe Produciton (In 1K 60-kg bags) crop year</td>\n",
       "      <td>0.0525</td>\n",
       "    </tr>\n",
       "    <tr>\n",
       "      <th>6</th>\n",
       "      <td>Year</td>\n",
       "      <td>0.0500</td>\n",
       "    </tr>\n",
       "    <tr>\n",
       "      <th>7</th>\n",
       "      <td>Inventories (In 1K 60-kg bags)</td>\n",
       "      <td>0.0396</td>\n",
       "    </tr>\n",
       "    <tr>\n",
       "      <th>8</th>\n",
       "      <td>re-exports (In 1K 60-kg bags) Calendar Year 35c</td>\n",
       "      <td>0.0344</td>\n",
       "    </tr>\n",
       "  </tbody>\n",
       "</table>\n",
       "</div>"
      ],
      "text/plain": [
       "                                           Feature  Impact\n",
       "0                         ICO composite (USD $/lb)  0.5821\n",
       "1                            Brent ave closing USD  0.0762\n",
       "2        Coffe Export (In 1K 60-kg bags) crop year  0.0571\n",
       "3          Domestic Consumption (In 1K 60-kg bags)  0.0546\n",
       "4                        WTI ave closing price USD  0.0535\n",
       "5    Coffe Produciton (In 1K 60-kg bags) crop year  0.0525\n",
       "6                                             Year  0.0500\n",
       "7                   Inventories (In 1K 60-kg bags)  0.0396\n",
       "8  re-exports (In 1K 60-kg bags) Calendar Year 35c  0.0344"
      ]
     },
     "execution_count": 31,
     "metadata": {},
     "output_type": "execute_result"
    }
   ],
   "source": [
    "# Generates feature impact data \n",
    "impact_data = sorted(zip(Econ_model.feature_importances_.round(decimals=4), feature_names), reverse=True)\n",
    "impact_data_df = pd.DataFrame(impact_data)\n",
    "impact_data_df = impact_data_df.rename(columns = {0:\"Impact\", 1:\"Feature\"})\n",
    "impact_data_df = impact_data_df[[\"Feature\", \"Impact\"]]\n",
    "impact_data_df"
   ]
  },
  {
   "cell_type": "code",
   "execution_count": null,
   "metadata": {},
   "outputs": [],
   "source": []
  },
  {
   "cell_type": "code",
   "execution_count": null,
   "metadata": {
    "scrolled": true
   },
   "outputs": [],
   "source": [
    "# Model stats and needed for ploting first graph"
   ]
  },
  {
   "cell_type": "code",
   "execution_count": null,
   "metadata": {},
   "outputs": [],
   "source": [
    "ypred = Econ_model.predict(X_test)\n",
    "\n",
    "mse = mean_squared_error(y_test, ypred)\n",
    "print(\"MSE: \", mse)\n",
    "print(\"RMSE: \", mse*(1/2.0)) \n",
    "\n",
    "# Taken from refrence\n",
    "# Target MSE:  0.130713987032462\n",
    "# Target RMSE:  0.065356993516231 "
   ]
  },
  {
   "cell_type": "code",
   "execution_count": null,
   "metadata": {},
   "outputs": [],
   "source": [
    "print(f\"train set shape: {y_test.shape}\")\n",
    "print(f\"Test set shape:  {ypred.shape}\")"
   ]
  },
  {
   "cell_type": "code",
   "execution_count": null,
   "metadata": {
    "scrolled": false
   },
   "outputs": [],
   "source": [
    "x_ax = range(len(y_test))\n",
    "plt.plot(x_ax, y_test, linewidth=2, label=\"original\", color =\"green\")\n",
    "plt.plot(x_ax, ypred, linewidth=3.0, label=\"predicted\", color = \"red\")\n",
    "plt.title(\"y-test and y-predicted data\")\n",
    "plt.xlabel('X-axis (# Retail data points)')\n",
    "plt.ylabel('Y-axis (Retail values: USD/lb)')\n",
    "plt.legend(loc='best',fancybox=True, shadow=True)\n",
    "plt.grid(True)\n",
    "plt.show() "
   ]
  },
  {
   "cell_type": "code",
   "execution_count": null,
   "metadata": {},
   "outputs": [],
   "source": [
    " # save your model by updating \"your_name\" with your name\n",
    "# and \"your_model\" with your model variable\n",
    "# be sure to turn this in to BCS\n",
    "# if joblib fails to import, try running the command to install in terminal/git-bash\n",
    "import joblib\n",
    "filename = 'z1_Economic_model_9_inputs.sav'\n",
    "joblib.dump(Econ_model, filename)"
   ]
  },
  {
   "cell_type": "code",
   "execution_count": null,
   "metadata": {},
   "outputs": [],
   "source": [
    "# Set up for desired graph"
   ]
  },
  {
   "cell_type": "code",
   "execution_count": null,
   "metadata": {},
   "outputs": [],
   "source": [
    "y_pred_bs = Econ_model.predict(data_df)"
   ]
  },
  {
   "cell_type": "code",
   "execution_count": null,
   "metadata": {},
   "outputs": [],
   "source": []
  },
  {
   "cell_type": "code",
   "execution_count": null,
   "metadata": {},
   "outputs": [],
   "source": [
    "x_ax = Years\n",
    "plt.plot(x_ax, target, linewidth=2, label=\"Original\", color =\"green\")\n",
    "plt.plot(x_ax, y_pred_bs, linewidth=3.0, label=\"Predicted\", color = \"red\")\n",
    "plt.title(\"Predicted Retail Price-Economic Model\")\n",
    "plt.xlabel('1990-2018')\n",
    "plt.ylabel('Retail values (USD/lb)')\n",
    "plt.legend(loc='best',fancybox=True, shadow=True)\n",
    "plt.grid(True)\n",
    "plt.savefig('Econimic_model.png')\n",
    "plt.show() "
   ]
  },
  {
   "cell_type": "code",
   "execution_count": null,
   "metadata": {},
   "outputs": [],
   "source": [
    "print(f\"Training Data Score: {Econ_model.score(X_train, y_train).round(decimals=4)}\")\n",
    "print(f\"Testing Data Score:  {Econ_model.score(X_test, y_test).round(decimals=4)}\")"
   ]
  },
  {
   "cell_type": "code",
   "execution_count": null,
   "metadata": {},
   "outputs": [],
   "source": []
  },
  {
   "cell_type": "code",
   "execution_count": null,
   "metadata": {},
   "outputs": [],
   "source": []
  }
 ],
 "metadata": {
  "kernelspec": {
   "display_name": "Python [conda env:PythonData]",
   "language": "python",
   "name": "conda-env-PythonData-py"
  },
  "language_info": {
   "codemirror_mode": {
    "name": "ipython",
    "version": 3
   },
   "file_extension": ".py",
   "mimetype": "text/x-python",
   "name": "python",
   "nbconvert_exporter": "python",
   "pygments_lexer": "ipython3",
   "version": "3.6.10"
  }
 },
 "nbformat": 4,
 "nbformat_minor": 4
}

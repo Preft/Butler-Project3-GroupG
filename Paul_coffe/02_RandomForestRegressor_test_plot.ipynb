{
 "cells": [
  {
   "cell_type": "markdown",
   "metadata": {},
   "source": [
    "# RandomForestRegressor\n",
    "Taken directly from the following:\n",
    "Regression Example with RandomForestRegressor in Python\n",
    "https://www.datatechnotes.com/2020/09/regression-example-with-randomforestregressor.html"
   ]
  },
  {
   "cell_type": "markdown",
   "metadata": {},
   "source": [
    "Training Data Score: 0.9665225014936368\n",
    "\n",
    "Testing Data Score: 0.9478942257910268"
   ]
  },
  {
   "cell_type": "code",
   "execution_count": 1,
   "metadata": {},
   "outputs": [],
   "source": [
    "#    Dependencies\n",
    "\n",
    "import pandas as pd\n",
    "from sklearn.ensemble import RandomForestRegressor\n",
    "from sklearn.datasets import load_boston\n",
    "from sklearn.datasets import make_regression\n",
    "from sklearn.metrics import mean_squared_error\n",
    "from sklearn.model_selection import train_test_split\n",
    "from sklearn.preprocessing import scale\n",
    "import matplotlib.pyplot as plt\n",
    "from sklearn import set_config "
   ]
  },
  {
   "cell_type": "code",
   "execution_count": 2,
   "metadata": {},
   "outputs": [
    {
     "data": {
      "text/html": [
       "<div>\n",
       "<style scoped>\n",
       "    .dataframe tbody tr th:only-of-type {\n",
       "        vertical-align: middle;\n",
       "    }\n",
       "\n",
       "    .dataframe tbody tr th {\n",
       "        vertical-align: top;\n",
       "    }\n",
       "\n",
       "    .dataframe thead th {\n",
       "        text-align: right;\n",
       "    }\n",
       "</style>\n",
       "<table border=\"1\" class=\"dataframe\">\n",
       "  <thead>\n",
       "    <tr style=\"text-align: right;\">\n",
       "      <th></th>\n",
       "      <th>Year</th>\n",
       "      <th>Brent ave closing USD</th>\n",
       "      <th>Coffe Export (In 1K 60-kg bags) crop year</th>\n",
       "      <th>Coffe Imports (In 1K 60-kg bags) Calendar Year 137c</th>\n",
       "      <th>Coffe Produciton (In 1K 60-kg bags) crop year</th>\n",
       "      <th>Domestic Consumption (In 1K 60-kg bags)</th>\n",
       "      <th>ICO composite (USD $/lb)</th>\n",
       "      <th>Inventories (In 1K 60-kg bags)</th>\n",
       "      <th>re-exports (In 1K 60-kg bags) Calendar Year 35c</th>\n",
       "      <th>WTI ave closing price USD</th>\n",
       "      <th>retail</th>\n",
       "    </tr>\n",
       "  </thead>\n",
       "  <tbody>\n",
       "    <tr>\n",
       "      <th>0</th>\n",
       "      <td>1990</td>\n",
       "      <td>23.76</td>\n",
       "      <td>73887</td>\n",
       "      <td>100082</td>\n",
       "      <td>93230</td>\n",
       "      <td>19509</td>\n",
       "      <td>0.72</td>\n",
       "      <td>15619</td>\n",
       "      <td>8769</td>\n",
       "      <td>24.53</td>\n",
       "      <td>4.53</td>\n",
       "    </tr>\n",
       "    <tr>\n",
       "      <th>1</th>\n",
       "      <td>1991</td>\n",
       "      <td>20.04</td>\n",
       "      <td>79768</td>\n",
       "      <td>97310</td>\n",
       "      <td>101269</td>\n",
       "      <td>20228</td>\n",
       "      <td>0.67</td>\n",
       "      <td>13200</td>\n",
       "      <td>9770</td>\n",
       "      <td>21.54</td>\n",
       "      <td>4.48</td>\n",
       "    </tr>\n",
       "    <tr>\n",
       "      <th>2</th>\n",
       "      <td>1992</td>\n",
       "      <td>19.32</td>\n",
       "      <td>76957</td>\n",
       "      <td>103653</td>\n",
       "      <td>98523</td>\n",
       "      <td>20951</td>\n",
       "      <td>0.53</td>\n",
       "      <td>16843</td>\n",
       "      <td>10691</td>\n",
       "      <td>20.58</td>\n",
       "      <td>4.53</td>\n",
       "    </tr>\n",
       "    <tr>\n",
       "      <th>3</th>\n",
       "      <td>1993</td>\n",
       "      <td>17.01</td>\n",
       "      <td>74130</td>\n",
       "      <td>101530</td>\n",
       "      <td>91762</td>\n",
       "      <td>21098</td>\n",
       "      <td>0.62</td>\n",
       "      <td>14218</td>\n",
       "      <td>11041</td>\n",
       "      <td>18.43</td>\n",
       "      <td>4.03</td>\n",
       "    </tr>\n",
       "    <tr>\n",
       "      <th>4</th>\n",
       "      <td>1994</td>\n",
       "      <td>15.86</td>\n",
       "      <td>65962</td>\n",
       "      <td>100811</td>\n",
       "      <td>93314</td>\n",
       "      <td>21360</td>\n",
       "      <td>1.34</td>\n",
       "      <td>12667</td>\n",
       "      <td>12833</td>\n",
       "      <td>17.20</td>\n",
       "      <td>4.59</td>\n",
       "    </tr>\n",
       "  </tbody>\n",
       "</table>\n",
       "</div>"
      ],
      "text/plain": [
       "   Year  Brent ave closing USD  Coffe Export (In 1K 60-kg bags) crop year  \\\n",
       "0  1990                  23.76                                      73887   \n",
       "1  1991                  20.04                                      79768   \n",
       "2  1992                  19.32                                      76957   \n",
       "3  1993                  17.01                                      74130   \n",
       "4  1994                  15.86                                      65962   \n",
       "\n",
       "   Coffe Imports (In 1K 60-kg bags) Calendar Year 137c  \\\n",
       "0                                             100082     \n",
       "1                                              97310     \n",
       "2                                             103653     \n",
       "3                                             101530     \n",
       "4                                             100811     \n",
       "\n",
       "   Coffe Produciton (In 1K 60-kg bags) crop year  \\\n",
       "0                                          93230   \n",
       "1                                         101269   \n",
       "2                                          98523   \n",
       "3                                          91762   \n",
       "4                                          93314   \n",
       "\n",
       "   Domestic Consumption (In 1K 60-kg bags)  ICO composite (USD $/lb)  \\\n",
       "0                                    19509                      0.72   \n",
       "1                                    20228                      0.67   \n",
       "2                                    20951                      0.53   \n",
       "3                                    21098                      0.62   \n",
       "4                                    21360                      1.34   \n",
       "\n",
       "   Inventories (In 1K 60-kg bags)  \\\n",
       "0                           15619   \n",
       "1                           13200   \n",
       "2                           16843   \n",
       "3                           14218   \n",
       "4                           12667   \n",
       "\n",
       "   re-exports (In 1K 60-kg bags) Calendar Year 35c  WTI ave closing price USD  \\\n",
       "0                                             8769                      24.53   \n",
       "1                                             9770                      21.54   \n",
       "2                                            10691                      20.58   \n",
       "3                                            11041                      18.43   \n",
       "4                                            12833                      17.20   \n",
       "\n",
       "   retail  \n",
       "0    4.53  \n",
       "1    4.48  \n",
       "2    4.53  \n",
       "3    4.03  \n",
       "4    4.59  "
      ]
     },
     "execution_count": 2,
     "metadata": {},
     "output_type": "execute_result"
    }
   ],
   "source": [
    "# import processed data\n",
    "path = \"Trends/\"\n",
    "file = \"finalFeatures.csv\"\n",
    "path_file = path + file\n",
    "df = pd.read_csv(path_file)\n",
    "df.head()"
   ]
  },
  {
   "cell_type": "code",
   "execution_count": 3,
   "metadata": {},
   "outputs": [
    {
     "data": {
      "text/plain": [
       "(29, 11)"
      ]
     },
     "execution_count": 3,
     "metadata": {},
     "output_type": "execute_result"
    }
   ],
   "source": [
    "df.shape"
   ]
  },
  {
   "cell_type": "code",
   "execution_count": 4,
   "metadata": {},
   "outputs": [],
   "source": [
    "# Create dataframe for running decision tree\n",
    "# This was done to upload existing code with similar variables\n",
    "# Main Data set: data_df\n",
    "\n",
    "x = df.drop(\"retail\", axis=1)\n",
    "y= df[\"retail\"]\n",
    "#target\n",
    "\n",
    "xtrain, xtest, ytrain, ytest=train_test_split(x, y, test_size=0.10)"
   ]
  },
  {
   "cell_type": "code",
   "execution_count": 17,
   "metadata": {},
   "outputs": [
    {
     "data": {
      "text/plain": [
       "2     4.53\n",
       "4     4.59\n",
       "25    6.02\n",
       "Name: retail, dtype: float64"
      ]
     },
     "execution_count": 17,
     "metadata": {},
     "output_type": "execute_result"
    }
   ],
   "source": [
    "ytest"
   ]
  },
  {
   "cell_type": "code",
   "execution_count": 5,
   "metadata": {},
   "outputs": [
    {
     "data": {
      "text/plain": [
       "RandomForestRegressor(bootstrap=True, ccp_alpha=0.0, criterion='mse',\n",
       "                      max_depth=None, max_features='auto', max_leaf_nodes=None,\n",
       "                      max_samples=None, min_impurity_decrease=0.0,\n",
       "                      min_impurity_split=None, min_samples_leaf=1,\n",
       "                      min_samples_split=2, min_weight_fraction_leaf=0.0,\n",
       "                      n_estimators=100, n_jobs=None, oob_score=False,\n",
       "                      random_state=None, verbose=0, warm_start=False)"
      ]
     },
     "execution_count": 5,
     "metadata": {},
     "output_type": "execute_result"
    }
   ],
   "source": [
    "set_config(print_changed_only=False) \n",
    " \n",
    "rfr = RandomForestRegressor()\n",
    "#print(rfr)\n",
    " \n",
    "RandomForestRegressor(bootstrap=True, ccp_alpha=0.0, criterion='mse',\n",
    "                      max_depth=None, max_features='auto', max_leaf_nodes=None,\n",
    "                      max_samples=None, min_impurity_decrease=0.0,\n",
    "                      min_impurity_split=None, min_samples_leaf=1,\n",
    "                      min_samples_split=2, min_weight_fraction_leaf=0.0,\n",
    "                      n_estimators=100, n_jobs=None, oob_score=False,\n",
    "                      random_state=None, verbose=0, warm_start=False) "
   ]
  },
  {
   "cell_type": "code",
   "execution_count": 6,
   "metadata": {},
   "outputs": [
    {
     "name": "stdout",
     "output_type": "stream",
     "text": [
      "R-squared: 0.9708704820049541\n"
     ]
    }
   ],
   "source": [
    "rfr.fit(xtrain, ytrain)\n",
    "\n",
    "score = rfr.score(xtrain, ytrain)\n",
    "print(\"R-squared:\", score) \n",
    " \n"
   ]
  },
  {
   "cell_type": "code",
   "execution_count": null,
   "metadata": {},
   "outputs": [],
   "source": []
  },
  {
   "cell_type": "code",
   "execution_count": 7,
   "metadata": {},
   "outputs": [
    {
     "name": "stdout",
     "output_type": "stream",
     "text": [
      "MSE:  0.535300016666668\n",
      "RMSE:  0.267650008333334\n"
     ]
    }
   ],
   "source": [
    "ypred = rfr.predict(xtest)\n",
    "\n",
    "mse = mean_squared_error(ytest, ypred)\n",
    "print(\"MSE: \", mse)\n",
    "print(\"RMSE: \", mse*(1/2.0)) \n",
    "\n",
    "MSE:  0.130713987032462\n",
    "RMSE:  0.065356993516231 "
   ]
  },
  {
   "cell_type": "code",
   "execution_count": 8,
   "metadata": {},
   "outputs": [
    {
     "data": {
      "text/plain": [
       "-0.1286370589888992"
      ]
     },
     "execution_count": 8,
     "metadata": {},
     "output_type": "execute_result"
    }
   ],
   "source": [
    "rfr.score(xtest, ytest)"
   ]
  },
  {
   "cell_type": "code",
   "execution_count": 9,
   "metadata": {},
   "outputs": [
    {
     "name": "stdout",
     "output_type": "stream",
     "text": [
      "Training Data Score: 0.9708704820049541\n",
      "Testing Data Score: -0.1286370589888992\n"
     ]
    }
   ],
   "source": [
    "print(f\"Training Data Score: {rfr.score(xtrain, ytrain)}\")\n",
    "print(f\"Testing Data Score: {rfr.score(xtest, ytest)}\")"
   ]
  },
  {
   "cell_type": "code",
   "execution_count": 11,
   "metadata": {},
   "outputs": [
    {
     "data": {
      "image/png": "[encoded data removed]",
      "text/plain": [
       "<Figure size 432x288 with 1 Axes>"
      ]
     },
     "metadata": {
      "needs_background": "light"
     },
     "output_type": "display_data"
    }
   ],
   "source": [
    "x_ax = range(len(ytest))\n",
    "plt.plot(x_ax, ytest, linewidth=1, label=\"original\")\n",
    "plt.plot(x_ax, ypred, linewidth=1.1, label=\"predicted\")\n",
    "plt.title(\"y-test and y-predicted data\")\n",
    "plt.xlabel('X-axis')\n",
    "plt.ylabel('Y-axis')\n",
    "plt.legend(loc='best',fancybox=True, shadow=True)\n",
    "plt.grid(True)\n",
    "plt.show() "
   ]
  },
  {
   "cell_type": "code",
   "execution_count": 12,
   "metadata": {},
   "outputs": [
    {
     "data": {
      "text/plain": [
       "2     4.53\n",
       "4     4.59\n",
       "25    6.02\n",
       "Name: retail, dtype: float64"
      ]
     },
     "execution_count": 12,
     "metadata": {},
     "output_type": "execute_result"
    }
   ],
   "source": [
    "ytest"
   ]
  },
  {
   "cell_type": "code",
   "execution_count": 13,
   "metadata": {},
   "outputs": [
    {
     "data": {
      "text/plain": [
       "array([4.0939, 5.775 , 6.1272])"
      ]
     },
     "execution_count": 13,
     "metadata": {},
     "output_type": "execute_result"
    }
   ],
   "source": [
    "ypred"
   ]
  },
  {
   "cell_type": "code",
   "execution_count": null,
   "metadata": {},
   "outputs": [],
   "source": []
  }
 ],
 "metadata": {
  "kernelspec": {
   "display_name": "Python [conda env:PythonData]",
   "language": "python",
   "name": "conda-env-PythonData-py"
  },
  "language_info": {
   "codemirror_mode": {
    "name": "ipython",
    "version": 3
   },
   "file_extension": ".py",
   "mimetype": "text/x-python",
   "name": "python",
   "nbconvert_exporter": "python",
   "pygments_lexer": "ipython3",
   "version": "3.6.10"
  }
 },
 "nbformat": 4,
 "nbformat_minor": 4
}

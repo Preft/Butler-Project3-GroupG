{
 "cells": [
  {
   "cell_type": "markdown",
   "metadata": {},
   "source": [
    "# Econmic Model 2: Predict Retail with Year amd ICO Composite\n",
    "## Random Forest Decision Tree\n",
    "This model employs a Random Forest Regressor Decision Tree algorithm to predict retail coffe price bassed on economic metrics such as  supply, trade, inventories, consumption, energy costs, and commodity pricing data. Data was obtained from International Coffee Organization (The ICO Historic Data).\n",
    "\n",
    "### Goal\n",
    "- Train model with Time and ICO spot price to predict retail price\n",
    "- Can be used for web applicaiton\n",
    "- User input: Year + ICO Spot = Retial price (for year)\n",
    "Example\n",
    " \n",
    " Enter:        2021 (Year) \n",
    " \n",
    " Enter:       1.09 (ICO composite (USD $/lb))\n",
    " \n",
    " Output:      Average Global Retail price (USD $/lb)\n"
   ]
  },
  {
   "cell_type": "markdown",
   "metadata": {},
   "source": [
    "### Scoring Metrics:\n",
    "- Training Data Score: 0.9597823614739235\n",
    "- Testing Data Score: 0.8959434042614792\n",
    "- MSE:  0.12347079250000448\n",
    "- RMSE:  0.06173539625000224"
   ]
  },
  {
   "cell_type": "code",
   "execution_count": 1,
   "metadata": {},
   "outputs": [],
   "source": [
    "# Dependencies\n",
    "import pandas as pd\n",
    "from sklearn.preprocessing import LabelEncoder\n",
    "import numpy as np\n",
    "from sklearn import tree\n",
    "import os\n",
    "import matplotlib.pyplot as plt"
   ]
  },
  {
   "cell_type": "code",
   "execution_count": 2,
   "metadata": {},
   "outputs": [],
   "source": [
    "# Machine learning libraries\n",
    "from sklearn.model_selection import cross_val_score, GridSearchCV\n",
    "from sklearn.ensemble import RandomForestRegressor\n",
    "from sklearn.preprocessing import MinMaxScaler\n",
    "from sklearn.metrics import mean_squared_error"
   ]
  },
  {
   "cell_type": "code",
   "execution_count": null,
   "metadata": {},
   "outputs": [],
   "source": []
  },
  {
   "cell_type": "code",
   "execution_count": 3,
   "metadata": {},
   "outputs": [
    {
     "data": {
      "text/html": [
       "<div>\n",
       "<style scoped>\n",
       "    .dataframe tbody tr th:only-of-type {\n",
       "        vertical-align: middle;\n",
       "    }\n",
       "\n",
       "    .dataframe tbody tr th {\n",
       "        vertical-align: top;\n",
       "    }\n",
       "\n",
       "    .dataframe thead th {\n",
       "        text-align: right;\n",
       "    }\n",
       "</style>\n",
       "<table border=\"1\" class=\"dataframe\">\n",
       "  <thead>\n",
       "    <tr style=\"text-align: right;\">\n",
       "      <th></th>\n",
       "      <th>Year</th>\n",
       "      <th>Brent ave closing USD</th>\n",
       "      <th>Coffe Export (In 1K 60-kg bags) crop year</th>\n",
       "      <th>Coffe Imports (In 1K 60-kg bags) Calendar Year 137c</th>\n",
       "      <th>Coffe Produciton (In 1K 60-kg bags) crop year</th>\n",
       "      <th>Domestic Consumption (In 1K 60-kg bags)</th>\n",
       "      <th>ICO composite (USD $/lb)</th>\n",
       "      <th>Inventories (In 1K 60-kg bags)</th>\n",
       "      <th>re-exports (In 1K 60-kg bags) Calendar Year 35c</th>\n",
       "      <th>WTI ave closing price USD</th>\n",
       "      <th>retail</th>\n",
       "    </tr>\n",
       "  </thead>\n",
       "  <tbody>\n",
       "    <tr>\n",
       "      <th>0</th>\n",
       "      <td>1990</td>\n",
       "      <td>23.76</td>\n",
       "      <td>73887</td>\n",
       "      <td>100082</td>\n",
       "      <td>93230</td>\n",
       "      <td>19509</td>\n",
       "      <td>0.72</td>\n",
       "      <td>15619</td>\n",
       "      <td>8769</td>\n",
       "      <td>24.53</td>\n",
       "      <td>4.53</td>\n",
       "    </tr>\n",
       "    <tr>\n",
       "      <th>1</th>\n",
       "      <td>1991</td>\n",
       "      <td>20.04</td>\n",
       "      <td>79768</td>\n",
       "      <td>97310</td>\n",
       "      <td>101269</td>\n",
       "      <td>20228</td>\n",
       "      <td>0.67</td>\n",
       "      <td>13200</td>\n",
       "      <td>9770</td>\n",
       "      <td>21.54</td>\n",
       "      <td>4.48</td>\n",
       "    </tr>\n",
       "    <tr>\n",
       "      <th>2</th>\n",
       "      <td>1992</td>\n",
       "      <td>19.32</td>\n",
       "      <td>76957</td>\n",
       "      <td>103653</td>\n",
       "      <td>98523</td>\n",
       "      <td>20951</td>\n",
       "      <td>0.53</td>\n",
       "      <td>16843</td>\n",
       "      <td>10691</td>\n",
       "      <td>20.58</td>\n",
       "      <td>4.53</td>\n",
       "    </tr>\n",
       "    <tr>\n",
       "      <th>3</th>\n",
       "      <td>1993</td>\n",
       "      <td>17.01</td>\n",
       "      <td>74130</td>\n",
       "      <td>101530</td>\n",
       "      <td>91762</td>\n",
       "      <td>21098</td>\n",
       "      <td>0.62</td>\n",
       "      <td>14218</td>\n",
       "      <td>11041</td>\n",
       "      <td>18.43</td>\n",
       "      <td>4.03</td>\n",
       "    </tr>\n",
       "    <tr>\n",
       "      <th>4</th>\n",
       "      <td>1994</td>\n",
       "      <td>15.86</td>\n",
       "      <td>65962</td>\n",
       "      <td>100811</td>\n",
       "      <td>93314</td>\n",
       "      <td>21360</td>\n",
       "      <td>1.34</td>\n",
       "      <td>12667</td>\n",
       "      <td>12833</td>\n",
       "      <td>17.20</td>\n",
       "      <td>4.59</td>\n",
       "    </tr>\n",
       "    <tr>\n",
       "      <th>5</th>\n",
       "      <td>1995</td>\n",
       "      <td>17.02</td>\n",
       "      <td>74253</td>\n",
       "      <td>95216</td>\n",
       "      <td>87318</td>\n",
       "      <td>22603</td>\n",
       "      <td>1.38</td>\n",
       "      <td>7905</td>\n",
       "      <td>11539</td>\n",
       "      <td>18.43</td>\n",
       "      <td>6.03</td>\n",
       "    </tr>\n",
       "    <tr>\n",
       "      <th>6</th>\n",
       "      <td>1996</td>\n",
       "      <td>20.64</td>\n",
       "      <td>81884</td>\n",
       "      <td>103284</td>\n",
       "      <td>103306</td>\n",
       "      <td>23513</td>\n",
       "      <td>1.02</td>\n",
       "      <td>6494</td>\n",
       "      <td>12485</td>\n",
       "      <td>22.12</td>\n",
       "      <td>5.68</td>\n",
       "    </tr>\n",
       "    <tr>\n",
       "      <th>7</th>\n",
       "      <td>1997</td>\n",
       "      <td>19.11</td>\n",
       "      <td>77962</td>\n",
       "      <td>108001</td>\n",
       "      <td>99861</td>\n",
       "      <td>24271</td>\n",
       "      <td>1.34</td>\n",
       "      <td>6896</td>\n",
       "      <td>14136</td>\n",
       "      <td>20.61</td>\n",
       "      <td>5.35</td>\n",
       "    </tr>\n",
       "    <tr>\n",
       "      <th>8</th>\n",
       "      <td>1998</td>\n",
       "      <td>12.76</td>\n",
       "      <td>82872</td>\n",
       "      <td>109718</td>\n",
       "      <td>108892</td>\n",
       "      <td>25117</td>\n",
       "      <td>1.09</td>\n",
       "      <td>6601</td>\n",
       "      <td>15135</td>\n",
       "      <td>14.42</td>\n",
       "      <td>5.31</td>\n",
       "    </tr>\n",
       "    <tr>\n",
       "      <th>9</th>\n",
       "      <td>1999</td>\n",
       "      <td>17.90</td>\n",
       "      <td>92405</td>\n",
       "      <td>116301</td>\n",
       "      <td>131385</td>\n",
       "      <td>25741</td>\n",
       "      <td>0.86</td>\n",
       "      <td>8601</td>\n",
       "      <td>15331</td>\n",
       "      <td>19.35</td>\n",
       "      <td>4.83</td>\n",
       "    </tr>\n",
       "    <tr>\n",
       "      <th>10</th>\n",
       "      <td>2000</td>\n",
       "      <td>28.66</td>\n",
       "      <td>87970</td>\n",
       "      <td>119015</td>\n",
       "      <td>113764</td>\n",
       "      <td>27068</td>\n",
       "      <td>0.64</td>\n",
       "      <td>12187</td>\n",
       "      <td>16796</td>\n",
       "      <td>30.38</td>\n",
       "      <td>4.19</td>\n",
       "    </tr>\n",
       "    <tr>\n",
       "      <th>11</th>\n",
       "      <td>2001</td>\n",
       "      <td>24.46</td>\n",
       "      <td>85759</td>\n",
       "      <td>122409</td>\n",
       "      <td>107901</td>\n",
       "      <td>28309</td>\n",
       "      <td>0.46</td>\n",
       "      <td>12678</td>\n",
       "      <td>18588</td>\n",
       "      <td>25.98</td>\n",
       "      <td>3.76</td>\n",
       "    </tr>\n",
       "    <tr>\n",
       "      <th>12</th>\n",
       "      <td>2002</td>\n",
       "      <td>24.99</td>\n",
       "      <td>90260</td>\n",
       "      <td>126768</td>\n",
       "      <td>122615</td>\n",
       "      <td>28752</td>\n",
       "      <td>0.48</td>\n",
       "      <td>14105</td>\n",
       "      <td>19602</td>\n",
       "      <td>26.19</td>\n",
       "      <td>3.73</td>\n",
       "    </tr>\n",
       "    <tr>\n",
       "      <th>13</th>\n",
       "      <td>2003</td>\n",
       "      <td>28.85</td>\n",
       "      <td>87986</td>\n",
       "      <td>128342</td>\n",
       "      <td>105508</td>\n",
       "      <td>29833</td>\n",
       "      <td>0.52</td>\n",
       "      <td>13708</td>\n",
       "      <td>21284</td>\n",
       "      <td>31.08</td>\n",
       "      <td>4.24</td>\n",
       "    </tr>\n",
       "    <tr>\n",
       "      <th>14</th>\n",
       "      <td>2004</td>\n",
       "      <td>38.26</td>\n",
       "      <td>89841</td>\n",
       "      <td>136139</td>\n",
       "      <td>116067</td>\n",
       "      <td>31413</td>\n",
       "      <td>0.62</td>\n",
       "      <td>13259</td>\n",
       "      <td>21693</td>\n",
       "      <td>41.51</td>\n",
       "      <td>4.56</td>\n",
       "    </tr>\n",
       "    <tr>\n",
       "      <th>15</th>\n",
       "      <td>2005</td>\n",
       "      <td>54.57</td>\n",
       "      <td>88137</td>\n",
       "      <td>136745</td>\n",
       "      <td>111169</td>\n",
       "      <td>33143</td>\n",
       "      <td>0.89</td>\n",
       "      <td>12387</td>\n",
       "      <td>24028</td>\n",
       "      <td>56.64</td>\n",
       "      <td>4.73</td>\n",
       "    </tr>\n",
       "    <tr>\n",
       "      <th>16</th>\n",
       "      <td>2006</td>\n",
       "      <td>65.16</td>\n",
       "      <td>98495</td>\n",
       "      <td>142862</td>\n",
       "      <td>135392</td>\n",
       "      <td>34974</td>\n",
       "      <td>0.96</td>\n",
       "      <td>13237</td>\n",
       "      <td>26123</td>\n",
       "      <td>66.05</td>\n",
       "      <td>4.89</td>\n",
       "    </tr>\n",
       "    <tr>\n",
       "      <th>17</th>\n",
       "      <td>2007</td>\n",
       "      <td>72.44</td>\n",
       "      <td>94173</td>\n",
       "      <td>149223</td>\n",
       "      <td>121842</td>\n",
       "      <td>36911</td>\n",
       "      <td>1.08</td>\n",
       "      <td>13696</td>\n",
       "      <td>28747</td>\n",
       "      <td>72.34</td>\n",
       "      <td>5.45</td>\n",
       "    </tr>\n",
       "    <tr>\n",
       "      <th>18</th>\n",
       "      <td>2008</td>\n",
       "      <td>96.94</td>\n",
       "      <td>95466</td>\n",
       "      <td>154346</td>\n",
       "      <td>134801</td>\n",
       "      <td>38403</td>\n",
       "      <td>1.24</td>\n",
       "      <td>13157</td>\n",
       "      <td>32106</td>\n",
       "      <td>99.67</td>\n",
       "      <td>6.09</td>\n",
       "    </tr>\n",
       "    <tr>\n",
       "      <th>19</th>\n",
       "      <td>2009</td>\n",
       "      <td>61.74</td>\n",
       "      <td>94627</td>\n",
       "      <td>151695</td>\n",
       "      <td>127975</td>\n",
       "      <td>39800</td>\n",
       "      <td>1.16</td>\n",
       "      <td>12107</td>\n",
       "      <td>31873</td>\n",
       "      <td>61.95</td>\n",
       "      <td>5.72</td>\n",
       "    </tr>\n",
       "    <tr>\n",
       "      <th>20</th>\n",
       "      <td>2010</td>\n",
       "      <td>79.61</td>\n",
       "      <td>102962</td>\n",
       "      <td>161059</td>\n",
       "      <td>142015</td>\n",
       "      <td>41858</td>\n",
       "      <td>1.47</td>\n",
       "      <td>11274</td>\n",
       "      <td>34048</td>\n",
       "      <td>79.48</td>\n",
       "      <td>5.77</td>\n",
       "    </tr>\n",
       "    <tr>\n",
       "      <th>21</th>\n",
       "      <td>2011</td>\n",
       "      <td>111.26</td>\n",
       "      <td>106378</td>\n",
       "      <td>165720</td>\n",
       "      <td>142475</td>\n",
       "      <td>43340</td>\n",
       "      <td>2.10</td>\n",
       "      <td>11821</td>\n",
       "      <td>35461</td>\n",
       "      <td>94.88</td>\n",
       "      <td>6.99</td>\n",
       "    </tr>\n",
       "    <tr>\n",
       "      <th>22</th>\n",
       "      <td>2012</td>\n",
       "      <td>111.57</td>\n",
       "      <td>107611</td>\n",
       "      <td>170548</td>\n",
       "      <td>151285</td>\n",
       "      <td>44754</td>\n",
       "      <td>1.56</td>\n",
       "      <td>12542</td>\n",
       "      <td>36221</td>\n",
       "      <td>94.05</td>\n",
       "      <td>6.91</td>\n",
       "    </tr>\n",
       "    <tr>\n",
       "      <th>23</th>\n",
       "      <td>2013</td>\n",
       "      <td>108.56</td>\n",
       "      <td>113519</td>\n",
       "      <td>176426</td>\n",
       "      <td>154094</td>\n",
       "      <td>45509</td>\n",
       "      <td>1.20</td>\n",
       "      <td>13791</td>\n",
       "      <td>36282</td>\n",
       "      <td>97.98</td>\n",
       "      <td>6.81</td>\n",
       "    </tr>\n",
       "    <tr>\n",
       "      <th>24</th>\n",
       "      <td>2014</td>\n",
       "      <td>98.97</td>\n",
       "      <td>113235</td>\n",
       "      <td>105413</td>\n",
       "      <td>149750</td>\n",
       "      <td>46666</td>\n",
       "      <td>1.55</td>\n",
       "      <td>14639</td>\n",
       "      <td>39037</td>\n",
       "      <td>93.17</td>\n",
       "      <td>6.82</td>\n",
       "    </tr>\n",
       "    <tr>\n",
       "      <th>25</th>\n",
       "      <td>2015</td>\n",
       "      <td>53.03</td>\n",
       "      <td>120520</td>\n",
       "      <td>108423</td>\n",
       "      <td>153988</td>\n",
       "      <td>47548</td>\n",
       "      <td>1.25</td>\n",
       "      <td>15639</td>\n",
       "      <td>40258</td>\n",
       "      <td>48.66</td>\n",
       "      <td>6.02</td>\n",
       "    </tr>\n",
       "    <tr>\n",
       "      <th>26</th>\n",
       "      <td>2016</td>\n",
       "      <td>45.13</td>\n",
       "      <td>119502</td>\n",
       "      <td>112977</td>\n",
       "      <td>159915</td>\n",
       "      <td>48488</td>\n",
       "      <td>1.27</td>\n",
       "      <td>16745</td>\n",
       "      <td>42437</td>\n",
       "      <td>43.29</td>\n",
       "      <td>5.83</td>\n",
       "    </tr>\n",
       "    <tr>\n",
       "      <th>27</th>\n",
       "      <td>2017</td>\n",
       "      <td>54.71</td>\n",
       "      <td>119836</td>\n",
       "      <td>118532</td>\n",
       "      <td>158076</td>\n",
       "      <td>49793</td>\n",
       "      <td>1.27</td>\n",
       "      <td>16542</td>\n",
       "      <td>43110</td>\n",
       "      <td>50.80</td>\n",
       "      <td>6.14</td>\n",
       "    </tr>\n",
       "    <tr>\n",
       "      <th>28</th>\n",
       "      <td>2018</td>\n",
       "      <td>71.34</td>\n",
       "      <td>125174</td>\n",
       "      <td>121000</td>\n",
       "      <td>170935</td>\n",
       "      <td>50510</td>\n",
       "      <td>1.09</td>\n",
       "      <td>15503</td>\n",
       "      <td>44808</td>\n",
       "      <td>65.23</td>\n",
       "      <td>6.38</td>\n",
       "    </tr>\n",
       "  </tbody>\n",
       "</table>\n",
       "</div>"
      ],
      "text/plain": [
       "    Year  Brent ave closing USD  Coffe Export (In 1K 60-kg bags) crop year  \\\n",
       "0   1990                  23.76                                      73887   \n",
       "1   1991                  20.04                                      79768   \n",
       "2   1992                  19.32                                      76957   \n",
       "3   1993                  17.01                                      74130   \n",
       "4   1994                  15.86                                      65962   \n",
       "5   1995                  17.02                                      74253   \n",
       "6   1996                  20.64                                      81884   \n",
       "7   1997                  19.11                                      77962   \n",
       "8   1998                  12.76                                      82872   \n",
       "9   1999                  17.90                                      92405   \n",
       "10  2000                  28.66                                      87970   \n",
       "11  2001                  24.46                                      85759   \n",
       "12  2002                  24.99                                      90260   \n",
       "13  2003                  28.85                                      87986   \n",
       "14  2004                  38.26                                      89841   \n",
       "15  2005                  54.57                                      88137   \n",
       "16  2006                  65.16                                      98495   \n",
       "17  2007                  72.44                                      94173   \n",
       "18  2008                  96.94                                      95466   \n",
       "19  2009                  61.74                                      94627   \n",
       "20  2010                  79.61                                     102962   \n",
       "21  2011                 111.26                                     106378   \n",
       "22  2012                 111.57                                     107611   \n",
       "23  2013                 108.56                                     113519   \n",
       "24  2014                  98.97                                     113235   \n",
       "25  2015                  53.03                                     120520   \n",
       "26  2016                  45.13                                     119502   \n",
       "27  2017                  54.71                                     119836   \n",
       "28  2018                  71.34                                     125174   \n",
       "\n",
       "    Coffe Imports (In 1K 60-kg bags) Calendar Year 137c  \\\n",
       "0                                              100082     \n",
       "1                                               97310     \n",
       "2                                              103653     \n",
       "3                                              101530     \n",
       "4                                              100811     \n",
       "5                                               95216     \n",
       "6                                              103284     \n",
       "7                                              108001     \n",
       "8                                              109718     \n",
       "9                                              116301     \n",
       "10                                             119015     \n",
       "11                                             122409     \n",
       "12                                             126768     \n",
       "13                                             128342     \n",
       "14                                             136139     \n",
       "15                                             136745     \n",
       "16                                             142862     \n",
       "17                                             149223     \n",
       "18                                             154346     \n",
       "19                                             151695     \n",
       "20                                             161059     \n",
       "21                                             165720     \n",
       "22                                             170548     \n",
       "23                                             176426     \n",
       "24                                             105413     \n",
       "25                                             108423     \n",
       "26                                             112977     \n",
       "27                                             118532     \n",
       "28                                             121000     \n",
       "\n",
       "    Coffe Produciton (In 1K 60-kg bags) crop year  \\\n",
       "0                                           93230   \n",
       "1                                          101269   \n",
       "2                                           98523   \n",
       "3                                           91762   \n",
       "4                                           93314   \n",
       "5                                           87318   \n",
       "6                                          103306   \n",
       "7                                           99861   \n",
       "8                                          108892   \n",
       "9                                          131385   \n",
       "10                                         113764   \n",
       "11                                         107901   \n",
       "12                                         122615   \n",
       "13                                         105508   \n",
       "14                                         116067   \n",
       "15                                         111169   \n",
       "16                                         135392   \n",
       "17                                         121842   \n",
       "18                                         134801   \n",
       "19                                         127975   \n",
       "20                                         142015   \n",
       "21                                         142475   \n",
       "22                                         151285   \n",
       "23                                         154094   \n",
       "24                                         149750   \n",
       "25                                         153988   \n",
       "26                                         159915   \n",
       "27                                         158076   \n",
       "28                                         170935   \n",
       "\n",
       "    Domestic Consumption (In 1K 60-kg bags)  ICO composite (USD $/lb)  \\\n",
       "0                                     19509                      0.72   \n",
       "1                                     20228                      0.67   \n",
       "2                                     20951                      0.53   \n",
       "3                                     21098                      0.62   \n",
       "4                                     21360                      1.34   \n",
       "5                                     22603                      1.38   \n",
       "6                                     23513                      1.02   \n",
       "7                                     24271                      1.34   \n",
       "8                                     25117                      1.09   \n",
       "9                                     25741                      0.86   \n",
       "10                                    27068                      0.64   \n",
       "11                                    28309                      0.46   \n",
       "12                                    28752                      0.48   \n",
       "13                                    29833                      0.52   \n",
       "14                                    31413                      0.62   \n",
       "15                                    33143                      0.89   \n",
       "16                                    34974                      0.96   \n",
       "17                                    36911                      1.08   \n",
       "18                                    38403                      1.24   \n",
       "19                                    39800                      1.16   \n",
       "20                                    41858                      1.47   \n",
       "21                                    43340                      2.10   \n",
       "22                                    44754                      1.56   \n",
       "23                                    45509                      1.20   \n",
       "24                                    46666                      1.55   \n",
       "25                                    47548                      1.25   \n",
       "26                                    48488                      1.27   \n",
       "27                                    49793                      1.27   \n",
       "28                                    50510                      1.09   \n",
       "\n",
       "    Inventories (In 1K 60-kg bags)  \\\n",
       "0                            15619   \n",
       "1                            13200   \n",
       "2                            16843   \n",
       "3                            14218   \n",
       "4                            12667   \n",
       "5                             7905   \n",
       "6                             6494   \n",
       "7                             6896   \n",
       "8                             6601   \n",
       "9                             8601   \n",
       "10                           12187   \n",
       "11                           12678   \n",
       "12                           14105   \n",
       "13                           13708   \n",
       "14                           13259   \n",
       "15                           12387   \n",
       "16                           13237   \n",
       "17                           13696   \n",
       "18                           13157   \n",
       "19                           12107   \n",
       "20                           11274   \n",
       "21                           11821   \n",
       "22                           12542   \n",
       "23                           13791   \n",
       "24                           14639   \n",
       "25                           15639   \n",
       "26                           16745   \n",
       "27                           16542   \n",
       "28                           15503   \n",
       "\n",
       "    re-exports (In 1K 60-kg bags) Calendar Year 35c  \\\n",
       "0                                              8769   \n",
       "1                                              9770   \n",
       "2                                             10691   \n",
       "3                                             11041   \n",
       "4                                             12833   \n",
       "5                                             11539   \n",
       "6                                             12485   \n",
       "7                                             14136   \n",
       "8                                             15135   \n",
       "9                                             15331   \n",
       "10                                            16796   \n",
       "11                                            18588   \n",
       "12                                            19602   \n",
       "13                                            21284   \n",
       "14                                            21693   \n",
       "15                                            24028   \n",
       "16                                            26123   \n",
       "17                                            28747   \n",
       "18                                            32106   \n",
       "19                                            31873   \n",
       "20                                            34048   \n",
       "21                                            35461   \n",
       "22                                            36221   \n",
       "23                                            36282   \n",
       "24                                            39037   \n",
       "25                                            40258   \n",
       "26                                            42437   \n",
       "27                                            43110   \n",
       "28                                            44808   \n",
       "\n",
       "    WTI ave closing price USD  retail  \n",
       "0                       24.53    4.53  \n",
       "1                       21.54    4.48  \n",
       "2                       20.58    4.53  \n",
       "3                       18.43    4.03  \n",
       "4                       17.20    4.59  \n",
       "5                       18.43    6.03  \n",
       "6                       22.12    5.68  \n",
       "7                       20.61    5.35  \n",
       "8                       14.42    5.31  \n",
       "9                       19.35    4.83  \n",
       "10                      30.38    4.19  \n",
       "11                      25.98    3.76  \n",
       "12                      26.19    3.73  \n",
       "13                      31.08    4.24  \n",
       "14                      41.51    4.56  \n",
       "15                      56.64    4.73  \n",
       "16                      66.05    4.89  \n",
       "17                      72.34    5.45  \n",
       "18                      99.67    6.09  \n",
       "19                      61.95    5.72  \n",
       "20                      79.48    5.77  \n",
       "21                      94.88    6.99  \n",
       "22                      94.05    6.91  \n",
       "23                      97.98    6.81  \n",
       "24                      93.17    6.82  \n",
       "25                      48.66    6.02  \n",
       "26                      43.29    5.83  \n",
       "27                      50.80    6.14  \n",
       "28                      65.23    6.38  "
      ]
     },
     "execution_count": 3,
     "metadata": {},
     "output_type": "execute_result"
    }
   ],
   "source": [
    "# import processed data\n",
    "path = \"Trends/\"\n",
    "file = \"finalFeatures.csv\"\n",
    "path_file = path + file\n",
    "df = pd.read_csv(path_file)\n",
    "df"
   ]
  },
  {
   "cell_type": "code",
   "execution_count": 4,
   "metadata": {},
   "outputs": [
    {
     "data": {
      "text/plain": [
       "(29, 11)"
      ]
     },
     "execution_count": 4,
     "metadata": {},
     "output_type": "execute_result"
    }
   ],
   "source": [
    "df.shape"
   ]
  },
  {
   "cell_type": "code",
   "execution_count": 5,
   "metadata": {},
   "outputs": [],
   "source": [
    "two_features_df = df.drop(columns= ['Coffe Imports (In 1K 60-kg bags) Calendar Year 137c',\n",
    "                                         're-exports (In 1K 60-kg bags) Calendar Year 35c',\n",
    "                                         'Inventories (In 1K 60-kg bags)',\n",
    "                                         'Coffe Export (In 1K 60-kg bags) crop year',\n",
    "                                         'Coffe Produciton (In 1K 60-kg bags) crop year',\n",
    "                                        'Brent ave closing USD',\n",
    "                                         'Domestic Consumption (In 1K 60-kg bags)',\n",
    "                                         'Brent ave closing USD',\n",
    "                                         'WTI ave closing price USD'])"
   ]
  },
  {
   "cell_type": "code",
   "execution_count": 6,
   "metadata": {},
   "outputs": [
    {
     "data": {
      "text/html": [
       "<div>\n",
       "<style scoped>\n",
       "    .dataframe tbody tr th:only-of-type {\n",
       "        vertical-align: middle;\n",
       "    }\n",
       "\n",
       "    .dataframe tbody tr th {\n",
       "        vertical-align: top;\n",
       "    }\n",
       "\n",
       "    .dataframe thead th {\n",
       "        text-align: right;\n",
       "    }\n",
       "</style>\n",
       "<table border=\"1\" class=\"dataframe\">\n",
       "  <thead>\n",
       "    <tr style=\"text-align: right;\">\n",
       "      <th></th>\n",
       "      <th>Year</th>\n",
       "      <th>ICO composite (USD $/lb)</th>\n",
       "      <th>retail</th>\n",
       "    </tr>\n",
       "  </thead>\n",
       "  <tbody>\n",
       "    <tr>\n",
       "      <th>0</th>\n",
       "      <td>1990</td>\n",
       "      <td>0.72</td>\n",
       "      <td>4.53</td>\n",
       "    </tr>\n",
       "    <tr>\n",
       "      <th>1</th>\n",
       "      <td>1991</td>\n",
       "      <td>0.67</td>\n",
       "      <td>4.48</td>\n",
       "    </tr>\n",
       "    <tr>\n",
       "      <th>2</th>\n",
       "      <td>1992</td>\n",
       "      <td>0.53</td>\n",
       "      <td>4.53</td>\n",
       "    </tr>\n",
       "    <tr>\n",
       "      <th>3</th>\n",
       "      <td>1993</td>\n",
       "      <td>0.62</td>\n",
       "      <td>4.03</td>\n",
       "    </tr>\n",
       "    <tr>\n",
       "      <th>4</th>\n",
       "      <td>1994</td>\n",
       "      <td>1.34</td>\n",
       "      <td>4.59</td>\n",
       "    </tr>\n",
       "  </tbody>\n",
       "</table>\n",
       "</div>"
      ],
      "text/plain": [
       "   Year  ICO composite (USD $/lb)  retail\n",
       "0  1990                      0.72    4.53\n",
       "1  1991                      0.67    4.48\n",
       "2  1992                      0.53    4.53\n",
       "3  1993                      0.62    4.03\n",
       "4  1994                      1.34    4.59"
      ]
     },
     "execution_count": 6,
     "metadata": {},
     "output_type": "execute_result"
    }
   ],
   "source": [
    "two_features_df.head()"
   ]
  },
  {
   "cell_type": "code",
   "execution_count": 7,
   "metadata": {},
   "outputs": [],
   "source": [
    "Years = df[\"Year\"]\n",
    "# needed for ploting final graph\n",
    "# Years"
   ]
  },
  {
   "cell_type": "code",
   "execution_count": 8,
   "metadata": {},
   "outputs": [
    {
     "name": "stdout",
     "output_type": "stream",
     "text": [
      "(29, 2)\n",
      "(29,)\n"
     ]
    }
   ],
   "source": [
    "# Create dataframe for running decision tree\n",
    "# This was done to upload existing code with similar variables\n",
    "# Main Data set: data_df\n",
    "\n",
    "x = two_features_df.drop(\"retail\", axis=1)\n",
    "y = two_features_df[\"retail\"]\n",
    "target = y\n",
    "data_df = x\n",
    "print(x.shape)\n",
    "print(y.shape)"
   ]
  },
  {
   "cell_type": "markdown",
   "metadata": {},
   "source": [
    "### RandomForestRegressor"
   ]
  },
  {
   "cell_type": "code",
   "execution_count": 9,
   "metadata": {},
   "outputs": [],
   "source": [
    "from sklearn.model_selection import train_test_split\n",
    "X_train, X_test, y_train, y_test = train_test_split(x, y, random_state=42)"
   ]
  },
  {
   "cell_type": "code",
   "execution_count": 10,
   "metadata": {},
   "outputs": [
    {
     "data": {
      "text/plain": [
       "0.8593430521446315"
      ]
     },
     "execution_count": 10,
     "metadata": {},
     "output_type": "execute_result"
    }
   ],
   "source": [
    "#from sklearn.ensemble import RandomForestRegressor\n",
    "Econ_model_twoFeatures = RandomForestRegressor(n_estimators=200)\n",
    "Econ_model_twoFeatures = Econ_model_twoFeatures.fit(X_train, y_train)\n",
    "Econ_model_twoFeatures.score(X_test, y_test)"
   ]
  },
  {
   "cell_type": "code",
   "execution_count": 11,
   "metadata": {},
   "outputs": [
    {
     "name": "stdout",
     "output_type": "stream",
     "text": [
      "Test Acc: 0.859\n"
     ]
    }
   ],
   "source": [
    "print('Test Acc: %.3f' % Econ_model_twoFeatures.score(X_test, y_test))"
   ]
  },
  {
   "cell_type": "code",
   "execution_count": 12,
   "metadata": {},
   "outputs": [
    {
     "name": "stdout",
     "output_type": "stream",
     "text": [
      "Training Data Score: 0.9503339170159595\n",
      "Testing Data Score: 0.8593430521446315\n"
     ]
    }
   ],
   "source": [
    "print(f\"Training Data Score: {Econ_model_twoFeatures.score(X_train, y_train)}\")\n",
    "print(f\"Testing Data Score: {Econ_model_twoFeatures.score(X_test, y_test)}\")"
   ]
  },
  {
   "cell_type": "code",
   "execution_count": 13,
   "metadata": {},
   "outputs": [],
   "source": [
    "#sorted(zip(Econ_model_twoFeatures.feature_importances_, feature_names), reverse=True)"
   ]
  },
  {
   "cell_type": "code",
   "execution_count": 14,
   "metadata": {
    "scrolled": true
   },
   "outputs": [],
   "source": [
    "# Model stats and needed for ploting first graph"
   ]
  },
  {
   "cell_type": "code",
   "execution_count": 15,
   "metadata": {},
   "outputs": [
    {
     "name": "stdout",
     "output_type": "stream",
     "text": [
      "MSE:  0.16689979812500286\n",
      "RMSE:  0.08344989906250143\n"
     ]
    }
   ],
   "source": [
    "ypred = Econ_model_twoFeatures.predict(X_test)\n",
    "\n",
    "mse = mean_squared_error(y_test, ypred)\n",
    "print(\"MSE: \", mse)\n",
    "print(\"RMSE: \", mse*(1/2.0)) \n",
    "\n",
    "# Taken from refrence\n",
    "# Target MSE:  0.130713987032462\n",
    "# Target RMSE:  0.065356993516231 "
   ]
  },
  {
   "cell_type": "code",
   "execution_count": 16,
   "metadata": {},
   "outputs": [
    {
     "name": "stdout",
     "output_type": "stream",
     "text": [
      "train set shape: (8,)\n",
      "Test set shape:  (8,)\n"
     ]
    }
   ],
   "source": [
    "print(f\"train set shape: {y_test.shape}\")\n",
    "print(f\"Test set shape:  {ypred.shape}\")"
   ]
  },
  {
   "cell_type": "code",
   "execution_count": 17,
   "metadata": {
    "scrolled": false
   },
   "outputs": [
    {
     "data": {
      "image/png": "[encoded data removed]",
      "text/plain": [
       "<Figure size 432x288 with 1 Axes>"
      ]
     },
     "metadata": {
      "needs_background": "light"
     },
     "output_type": "display_data"
    }
   ],
   "source": [
    "x_ax = range(len(y_test))\n",
    "plt.plot(x_ax, y_test, linewidth=2, label=\"original\", color =\"green\")\n",
    "plt.plot(x_ax, ypred, linewidth=3.0, label=\"predicted\", color = \"red\")\n",
    "plt.title(\"y-test and y-predicted data\")\n",
    "plt.xlabel('X-axis (# Retail data points)')\n",
    "plt.ylabel('Y-axis (Retail values: USD/lb)')\n",
    "plt.legend(loc='best',fancybox=True, shadow=True)\n",
    "plt.grid(True)\n",
    "plt.show() "
   ]
  },
  {
   "cell_type": "code",
   "execution_count": 18,
   "metadata": {},
   "outputs": [
    {
     "data": {
      "text/plain": [
       "['z2_Economic_web_model_2_inputs.sav']"
      ]
     },
     "execution_count": 18,
     "metadata": {},
     "output_type": "execute_result"
    }
   ],
   "source": [
    " # save your model by updating \"your_name\" with your name\n",
    "# and \"your_model\" with your model variable\n",
    "# be sure to turn this in to BCS\n",
    "# if joblib fails to import, try running the command to install in terminal/git-bash\n",
    "import joblib\n",
    "filename = 'z2_Economic_web_model_2_inputs.sav'\n",
    "joblib.dump(Econ_model_twoFeatures, filename)"
   ]
  },
  {
   "cell_type": "code",
   "execution_count": 19,
   "metadata": {},
   "outputs": [],
   "source": [
    "import pickle\n",
    "filename = 'pickel2_Economic_web_model_2_inputs.pickle'\n",
    "\n",
    "with open(filename, \"wb\") as f:\n",
    "    pickle.dump(Econ_model_twoFeatures, f)"
   ]
  },
  {
   "cell_type": "code",
   "execution_count": 20,
   "metadata": {},
   "outputs": [],
   "source": [
    "# Set up for desired graph"
   ]
  },
  {
   "cell_type": "code",
   "execution_count": 21,
   "metadata": {},
   "outputs": [],
   "source": [
    "y_pred_bs = Econ_model_twoFeatures.predict(data_df)"
   ]
  },
  {
   "cell_type": "code",
   "execution_count": 22,
   "metadata": {},
   "outputs": [
    {
     "data": {
      "text/html": [
       "<div>\n",
       "<style scoped>\n",
       "    .dataframe tbody tr th:only-of-type {\n",
       "        vertical-align: middle;\n",
       "    }\n",
       "\n",
       "    .dataframe tbody tr th {\n",
       "        vertical-align: top;\n",
       "    }\n",
       "\n",
       "    .dataframe thead th {\n",
       "        text-align: right;\n",
       "    }\n",
       "</style>\n",
       "<table border=\"1\" class=\"dataframe\">\n",
       "  <thead>\n",
       "    <tr style=\"text-align: right;\">\n",
       "      <th></th>\n",
       "      <th>Year</th>\n",
       "      <th>ICO composite (USD $/lb)</th>\n",
       "    </tr>\n",
       "  </thead>\n",
       "  <tbody>\n",
       "    <tr>\n",
       "      <th>0</th>\n",
       "      <td>1990</td>\n",
       "      <td>0.72</td>\n",
       "    </tr>\n",
       "  </tbody>\n",
       "</table>\n",
       "</div>"
      ],
      "text/plain": [
       "   Year  ICO composite (USD $/lb)\n",
       "0  1990                      0.72"
      ]
     },
     "execution_count": 22,
     "metadata": {},
     "output_type": "execute_result"
    }
   ],
   "source": [
    "data_df.head(1)"
   ]
  },
  {
   "cell_type": "code",
   "execution_count": 23,
   "metadata": {},
   "outputs": [
    {
     "data": {
      "image/png": "[encoded data removed]",
      "text/plain": [
       "<Figure size 432x288 with 1 Axes>"
      ]
     },
     "metadata": {
      "needs_background": "light"
     },
     "output_type": "display_data"
    }
   ],
   "source": [
    "x_ax = Years\n",
    "plt.plot(x_ax, target, linewidth=2, label=\"Original\", color =\"green\")\n",
    "plt.plot(x_ax, y_pred_bs, linewidth=3.0, label=\"Predicted\", color = \"red\")\n",
    "plt.title(\"Predicted Retail Price-Economic Model\")\n",
    "plt.xlabel('1990-2018')\n",
    "plt.ylabel('Retail values (USD/lb)')\n",
    "plt.legend(loc='best',fancybox=True, shadow=True)\n",
    "plt.grid(True)\n",
    "plt.savefig('Econimic_model.png')\n",
    "plt.show() "
   ]
  },
  {
   "cell_type": "code",
   "execution_count": 24,
   "metadata": {},
   "outputs": [
    {
     "name": "stdout",
     "output_type": "stream",
     "text": [
      "Training Data Score: 0.9503\n",
      "Testing Data Score: 0.8593\n"
     ]
    }
   ],
   "source": [
    "print(f\"Training Data Score: {Econ_model_twoFeatures.score(X_train, y_train).round(decimals=4)}\")\n",
    "print(f\"Testing Data Score: {Econ_model_twoFeatures.score(X_test, y_test).round(decimals=4)}\")"
   ]
  },
  {
   "cell_type": "markdown",
   "metadata": {},
   "source": [
    "# web model development"
   ]
  },
  {
   "cell_type": "code",
   "execution_count": 25,
   "metadata": {},
   "outputs": [
    {
     "data": {
      "text/html": [
       "<div>\n",
       "<style scoped>\n",
       "    .dataframe tbody tr th:only-of-type {\n",
       "        vertical-align: middle;\n",
       "    }\n",
       "\n",
       "    .dataframe tbody tr th {\n",
       "        vertical-align: top;\n",
       "    }\n",
       "\n",
       "    .dataframe thead th {\n",
       "        text-align: right;\n",
       "    }\n",
       "</style>\n",
       "<table border=\"1\" class=\"dataframe\">\n",
       "  <thead>\n",
       "    <tr style=\"text-align: right;\">\n",
       "      <th></th>\n",
       "      <th>Year</th>\n",
       "      <th>ICO composite (USD $/lb)</th>\n",
       "      <th>retail</th>\n",
       "    </tr>\n",
       "  </thead>\n",
       "  <tbody>\n",
       "    <tr>\n",
       "      <th>0</th>\n",
       "      <td>1990</td>\n",
       "      <td>0.72</td>\n",
       "      <td>4.53</td>\n",
       "    </tr>\n",
       "    <tr>\n",
       "      <th>1</th>\n",
       "      <td>1991</td>\n",
       "      <td>0.67</td>\n",
       "      <td>4.48</td>\n",
       "    </tr>\n",
       "    <tr>\n",
       "      <th>2</th>\n",
       "      <td>1992</td>\n",
       "      <td>0.53</td>\n",
       "      <td>4.53</td>\n",
       "    </tr>\n",
       "    <tr>\n",
       "      <th>3</th>\n",
       "      <td>1993</td>\n",
       "      <td>0.62</td>\n",
       "      <td>4.03</td>\n",
       "    </tr>\n",
       "    <tr>\n",
       "      <th>4</th>\n",
       "      <td>1994</td>\n",
       "      <td>1.34</td>\n",
       "      <td>4.59</td>\n",
       "    </tr>\n",
       "    <tr>\n",
       "      <th>5</th>\n",
       "      <td>1995</td>\n",
       "      <td>1.38</td>\n",
       "      <td>6.03</td>\n",
       "    </tr>\n",
       "    <tr>\n",
       "      <th>6</th>\n",
       "      <td>1996</td>\n",
       "      <td>1.02</td>\n",
       "      <td>5.68</td>\n",
       "    </tr>\n",
       "    <tr>\n",
       "      <th>7</th>\n",
       "      <td>1997</td>\n",
       "      <td>1.34</td>\n",
       "      <td>5.35</td>\n",
       "    </tr>\n",
       "    <tr>\n",
       "      <th>8</th>\n",
       "      <td>1998</td>\n",
       "      <td>1.09</td>\n",
       "      <td>5.31</td>\n",
       "    </tr>\n",
       "    <tr>\n",
       "      <th>9</th>\n",
       "      <td>1999</td>\n",
       "      <td>0.86</td>\n",
       "      <td>4.83</td>\n",
       "    </tr>\n",
       "  </tbody>\n",
       "</table>\n",
       "</div>"
      ],
      "text/plain": [
       "   Year  ICO composite (USD $/lb)  retail\n",
       "0  1990                      0.72    4.53\n",
       "1  1991                      0.67    4.48\n",
       "2  1992                      0.53    4.53\n",
       "3  1993                      0.62    4.03\n",
       "4  1994                      1.34    4.59\n",
       "5  1995                      1.38    6.03\n",
       "6  1996                      1.02    5.68\n",
       "7  1997                      1.34    5.35\n",
       "8  1998                      1.09    5.31\n",
       "9  1999                      0.86    4.83"
      ]
     },
     "execution_count": 25,
     "metadata": {},
     "output_type": "execute_result"
    }
   ],
   "source": [
    "two_features_df.head(10)"
   ]
  },
  {
   "cell_type": "code",
   "execution_count": 26,
   "metadata": {},
   "outputs": [
    {
     "data": {
      "text/html": [
       "<div>\n",
       "<style scoped>\n",
       "    .dataframe tbody tr th:only-of-type {\n",
       "        vertical-align: middle;\n",
       "    }\n",
       "\n",
       "    .dataframe tbody tr th {\n",
       "        vertical-align: top;\n",
       "    }\n",
       "\n",
       "    .dataframe thead th {\n",
       "        text-align: right;\n",
       "    }\n",
       "</style>\n",
       "<table border=\"1\" class=\"dataframe\">\n",
       "  <thead>\n",
       "    <tr style=\"text-align: right;\">\n",
       "      <th></th>\n",
       "      <th>Year</th>\n",
       "      <th>ICO composite (USD $/lb)</th>\n",
       "      <th>retail</th>\n",
       "    </tr>\n",
       "  </thead>\n",
       "  <tbody>\n",
       "    <tr>\n",
       "      <th>0</th>\n",
       "      <td>1990</td>\n",
       "      <td>0.72</td>\n",
       "      <td>4.53</td>\n",
       "    </tr>\n",
       "  </tbody>\n",
       "</table>\n",
       "</div>"
      ],
      "text/plain": [
       "   Year  ICO composite (USD $/lb)  retail\n",
       "0  1990                      0.72    4.53"
      ]
     },
     "execution_count": 26,
     "metadata": {},
     "output_type": "execute_result"
    }
   ],
   "source": [
    "input_test_1 = two_features_df.head(1)\n",
    "User_Test_df = (input_test_1).drop(\"retail\", axis=1)\n",
    "input_test_1"
   ]
  },
  {
   "cell_type": "code",
   "execution_count": 27,
   "metadata": {},
   "outputs": [],
   "source": [
    "#User_Test = (1990, 0.72)\n",
    "#User_Test_df"
   ]
  },
  {
   "cell_type": "code",
   "execution_count": 28,
   "metadata": {},
   "outputs": [
    {
     "data": {
      "text/plain": [
       "[1999, 0.86]"
      ]
     },
     "execution_count": 28,
     "metadata": {},
     "output_type": "execute_result"
    }
   ],
   "source": [
    "#print(User_Test_df.dtypes)\n",
    "test_model_data = [1999, 0.86]\n",
    "test_model_data"
   ]
  },
  {
   "cell_type": "code",
   "execution_count": 29,
   "metadata": {},
   "outputs": [],
   "source": [
    "user_test_data = np.array([[test_model_data]])"
   ]
  },
  {
   "cell_type": "code",
   "execution_count": 30,
   "metadata": {},
   "outputs": [],
   "source": [
    "test_outpout = Econ_model_twoFeatures.predict(User_Test_df)"
   ]
  },
  {
   "cell_type": "code",
   "execution_count": 31,
   "metadata": {},
   "outputs": [
    {
     "name": "stdout",
     "output_type": "stream",
     "text": [
      "Input for Year and ICO spot: [1999, 0.86]\n",
      "Predicted Retail Price: [4.4348] USD/LB\n"
     ]
    }
   ],
   "source": [
    "print(f\"Input for Year and ICO spot: {test_model_data}\")\n",
    "print(f\"Predicted Retail Price: {test_outpout} USD/LB\")"
   ]
  },
  {
   "cell_type": "code",
   "execution_count": null,
   "metadata": {},
   "outputs": [],
   "source": []
  },
  {
   "cell_type": "code",
   "execution_count": null,
   "metadata": {},
   "outputs": [],
   "source": []
  }
 ],
 "metadata": {
  "kernelspec": {
   "display_name": "Python [conda env:PythonData]",
   "language": "python",
   "name": "conda-env-PythonData-py"
  },
  "language_info": {
   "codemirror_mode": {
    "name": "ipython",
    "version": 3
   },
   "file_extension": ".py",
   "mimetype": "text/x-python",
   "name": "python",
   "nbconvert_exporter": "python",
   "pygments_lexer": "ipython3",
   "version": "3.6.10"
  }
 },
 "nbformat": 4,
 "nbformat_minor": 4
}

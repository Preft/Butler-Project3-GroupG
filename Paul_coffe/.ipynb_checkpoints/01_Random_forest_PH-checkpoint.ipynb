{
 "cells": [
  {
   "cell_type": "markdown",
   "metadata": {},
   "source": [
    "## Random Forest Decision Tree\n",
    "\n",
    "Training Data Score: 0.9623936328992785\n",
    "\n",
    "Testing Data Score: 0.8953342644984792\n"
   ]
  },
  {
   "cell_type": "code",
   "execution_count": 1,
   "metadata": {},
   "outputs": [],
   "source": [
    "# Dependencies\n",
    "import pandas as pd\n",
    "from sklearn.preprocessing import LabelEncoder\n",
    "import numpy as np\n",
    "from sklearn import tree\n",
    "import os\n",
    "import matplotlib.pyplot as plt"
   ]
  },
  {
   "cell_type": "code",
   "execution_count": 2,
   "metadata": {},
   "outputs": [],
   "source": [
    "from sklearn.model_selection import cross_val_score, GridSearchCV\n",
    "from sklearn.ensemble import RandomForestRegressor\n",
    "from sklearn.preprocessing import MinMaxScaler"
   ]
  },
  {
   "cell_type": "code",
   "execution_count": null,
   "metadata": {},
   "outputs": [],
   "source": []
  },
  {
   "cell_type": "code",
   "execution_count": 3,
   "metadata": {},
   "outputs": [
    {
     "data": {
      "text/html": [
       "<div>\n",
       "<style scoped>\n",
       "    .dataframe tbody tr th:only-of-type {\n",
       "        vertical-align: middle;\n",
       "    }\n",
       "\n",
       "    .dataframe tbody tr th {\n",
       "        vertical-align: top;\n",
       "    }\n",
       "\n",
       "    .dataframe thead th {\n",
       "        text-align: right;\n",
       "    }\n",
       "</style>\n",
       "<table border=\"1\" class=\"dataframe\">\n",
       "  <thead>\n",
       "    <tr style=\"text-align: right;\">\n",
       "      <th></th>\n",
       "      <th>Year</th>\n",
       "      <th>Brent ave closing USD</th>\n",
       "      <th>Coffe Export (In 1K 60-kg bags) crop year</th>\n",
       "      <th>Coffe Imports (In 1K 60-kg bags) Calendar Year 137c</th>\n",
       "      <th>Coffe Produciton (In 1K 60-kg bags) crop year</th>\n",
       "      <th>Domestic Consumption (In 1K 60-kg bags)</th>\n",
       "      <th>ICO composite (USD $/lb)</th>\n",
       "      <th>Inventories (In 1K 60-kg bags)</th>\n",
       "      <th>re-exports (In 1K 60-kg bags) Calendar Year 35c</th>\n",
       "      <th>WTI ave closing price USD</th>\n",
       "      <th>retail</th>\n",
       "    </tr>\n",
       "  </thead>\n",
       "  <tbody>\n",
       "    <tr>\n",
       "      <th>0</th>\n",
       "      <td>1990</td>\n",
       "      <td>23.76</td>\n",
       "      <td>73887</td>\n",
       "      <td>100082</td>\n",
       "      <td>93230</td>\n",
       "      <td>19509</td>\n",
       "      <td>0.72</td>\n",
       "      <td>15619</td>\n",
       "      <td>8769</td>\n",
       "      <td>24.53</td>\n",
       "      <td>4.53</td>\n",
       "    </tr>\n",
       "    <tr>\n",
       "      <th>1</th>\n",
       "      <td>1991</td>\n",
       "      <td>20.04</td>\n",
       "      <td>79768</td>\n",
       "      <td>97310</td>\n",
       "      <td>101269</td>\n",
       "      <td>20228</td>\n",
       "      <td>0.67</td>\n",
       "      <td>13200</td>\n",
       "      <td>9770</td>\n",
       "      <td>21.54</td>\n",
       "      <td>4.48</td>\n",
       "    </tr>\n",
       "    <tr>\n",
       "      <th>2</th>\n",
       "      <td>1992</td>\n",
       "      <td>19.32</td>\n",
       "      <td>76957</td>\n",
       "      <td>103653</td>\n",
       "      <td>98523</td>\n",
       "      <td>20951</td>\n",
       "      <td>0.53</td>\n",
       "      <td>16843</td>\n",
       "      <td>10691</td>\n",
       "      <td>20.58</td>\n",
       "      <td>4.53</td>\n",
       "    </tr>\n",
       "    <tr>\n",
       "      <th>3</th>\n",
       "      <td>1993</td>\n",
       "      <td>17.01</td>\n",
       "      <td>74130</td>\n",
       "      <td>101530</td>\n",
       "      <td>91762</td>\n",
       "      <td>21098</td>\n",
       "      <td>0.62</td>\n",
       "      <td>14218</td>\n",
       "      <td>11041</td>\n",
       "      <td>18.43</td>\n",
       "      <td>4.03</td>\n",
       "    </tr>\n",
       "    <tr>\n",
       "      <th>4</th>\n",
       "      <td>1994</td>\n",
       "      <td>15.86</td>\n",
       "      <td>65962</td>\n",
       "      <td>100811</td>\n",
       "      <td>93314</td>\n",
       "      <td>21360</td>\n",
       "      <td>1.34</td>\n",
       "      <td>12667</td>\n",
       "      <td>12833</td>\n",
       "      <td>17.20</td>\n",
       "      <td>4.59</td>\n",
       "    </tr>\n",
       "  </tbody>\n",
       "</table>\n",
       "</div>"
      ],
      "text/plain": [
       "   Year  Brent ave closing USD  Coffe Export (In 1K 60-kg bags) crop year  \\\n",
       "0  1990                  23.76                                      73887   \n",
       "1  1991                  20.04                                      79768   \n",
       "2  1992                  19.32                                      76957   \n",
       "3  1993                  17.01                                      74130   \n",
       "4  1994                  15.86                                      65962   \n",
       "\n",
       "   Coffe Imports (In 1K 60-kg bags) Calendar Year 137c  \\\n",
       "0                                             100082     \n",
       "1                                              97310     \n",
       "2                                             103653     \n",
       "3                                             101530     \n",
       "4                                             100811     \n",
       "\n",
       "   Coffe Produciton (In 1K 60-kg bags) crop year  \\\n",
       "0                                          93230   \n",
       "1                                         101269   \n",
       "2                                          98523   \n",
       "3                                          91762   \n",
       "4                                          93314   \n",
       "\n",
       "   Domestic Consumption (In 1K 60-kg bags)  ICO composite (USD $/lb)  \\\n",
       "0                                    19509                      0.72   \n",
       "1                                    20228                      0.67   \n",
       "2                                    20951                      0.53   \n",
       "3                                    21098                      0.62   \n",
       "4                                    21360                      1.34   \n",
       "\n",
       "   Inventories (In 1K 60-kg bags)  \\\n",
       "0                           15619   \n",
       "1                           13200   \n",
       "2                           16843   \n",
       "3                           14218   \n",
       "4                           12667   \n",
       "\n",
       "   re-exports (In 1K 60-kg bags) Calendar Year 35c  WTI ave closing price USD  \\\n",
       "0                                             8769                      24.53   \n",
       "1                                             9770                      21.54   \n",
       "2                                            10691                      20.58   \n",
       "3                                            11041                      18.43   \n",
       "4                                            12833                      17.20   \n",
       "\n",
       "   retail  \n",
       "0    4.53  \n",
       "1    4.48  \n",
       "2    4.53  \n",
       "3    4.03  \n",
       "4    4.59  "
      ]
     },
     "execution_count": 3,
     "metadata": {},
     "output_type": "execute_result"
    }
   ],
   "source": [
    "# import processed data\n",
    "path = \"Trends/\"\n",
    "file = \"finalFeatures.csv\"\n",
    "path_file = path + file\n",
    "df = pd.read_csv(path_file)\n",
    "df.head()"
   ]
  },
  {
   "cell_type": "code",
   "execution_count": 4,
   "metadata": {},
   "outputs": [
    {
     "data": {
      "text/plain": [
       "(29, 11)"
      ]
     },
     "execution_count": 4,
     "metadata": {},
     "output_type": "execute_result"
    }
   ],
   "source": [
    "df.shape"
   ]
  },
  {
   "cell_type": "code",
   "execution_count": null,
   "metadata": {},
   "outputs": [],
   "source": []
  },
  {
   "cell_type": "code",
   "execution_count": 5,
   "metadata": {},
   "outputs": [
    {
     "data": {
      "text/html": [
       "<div>\n",
       "<style scoped>\n",
       "    .dataframe tbody tr th:only-of-type {\n",
       "        vertical-align: middle;\n",
       "    }\n",
       "\n",
       "    .dataframe tbody tr th {\n",
       "        vertical-align: top;\n",
       "    }\n",
       "\n",
       "    .dataframe thead th {\n",
       "        text-align: right;\n",
       "    }\n",
       "</style>\n",
       "<table border=\"1\" class=\"dataframe\">\n",
       "  <thead>\n",
       "    <tr style=\"text-align: right;\">\n",
       "      <th></th>\n",
       "      <th>Year</th>\n",
       "      <th>Brent ave closing USD</th>\n",
       "      <th>Coffe Export (In 1K 60-kg bags) crop year</th>\n",
       "      <th>Coffe Imports (In 1K 60-kg bags) Calendar Year 137c</th>\n",
       "      <th>Coffe Produciton (In 1K 60-kg bags) crop year</th>\n",
       "      <th>Domestic Consumption (In 1K 60-kg bags)</th>\n",
       "      <th>ICO composite (USD $/lb)</th>\n",
       "      <th>Inventories (In 1K 60-kg bags)</th>\n",
       "      <th>re-exports (In 1K 60-kg bags) Calendar Year 35c</th>\n",
       "      <th>WTI ave closing price USD</th>\n",
       "    </tr>\n",
       "  </thead>\n",
       "  <tbody>\n",
       "    <tr>\n",
       "      <th>0</th>\n",
       "      <td>1990</td>\n",
       "      <td>23.76</td>\n",
       "      <td>73887</td>\n",
       "      <td>100082</td>\n",
       "      <td>93230</td>\n",
       "      <td>19509</td>\n",
       "      <td>0.72</td>\n",
       "      <td>15619</td>\n",
       "      <td>8769</td>\n",
       "      <td>24.53</td>\n",
       "    </tr>\n",
       "    <tr>\n",
       "      <th>1</th>\n",
       "      <td>1991</td>\n",
       "      <td>20.04</td>\n",
       "      <td>79768</td>\n",
       "      <td>97310</td>\n",
       "      <td>101269</td>\n",
       "      <td>20228</td>\n",
       "      <td>0.67</td>\n",
       "      <td>13200</td>\n",
       "      <td>9770</td>\n",
       "      <td>21.54</td>\n",
       "    </tr>\n",
       "    <tr>\n",
       "      <th>2</th>\n",
       "      <td>1992</td>\n",
       "      <td>19.32</td>\n",
       "      <td>76957</td>\n",
       "      <td>103653</td>\n",
       "      <td>98523</td>\n",
       "      <td>20951</td>\n",
       "      <td>0.53</td>\n",
       "      <td>16843</td>\n",
       "      <td>10691</td>\n",
       "      <td>20.58</td>\n",
       "    </tr>\n",
       "    <tr>\n",
       "      <th>3</th>\n",
       "      <td>1993</td>\n",
       "      <td>17.01</td>\n",
       "      <td>74130</td>\n",
       "      <td>101530</td>\n",
       "      <td>91762</td>\n",
       "      <td>21098</td>\n",
       "      <td>0.62</td>\n",
       "      <td>14218</td>\n",
       "      <td>11041</td>\n",
       "      <td>18.43</td>\n",
       "    </tr>\n",
       "    <tr>\n",
       "      <th>4</th>\n",
       "      <td>1994</td>\n",
       "      <td>15.86</td>\n",
       "      <td>65962</td>\n",
       "      <td>100811</td>\n",
       "      <td>93314</td>\n",
       "      <td>21360</td>\n",
       "      <td>1.34</td>\n",
       "      <td>12667</td>\n",
       "      <td>12833</td>\n",
       "      <td>17.20</td>\n",
       "    </tr>\n",
       "  </tbody>\n",
       "</table>\n",
       "</div>"
      ],
      "text/plain": [
       "   Year  Brent ave closing USD  Coffe Export (In 1K 60-kg bags) crop year  \\\n",
       "0  1990                  23.76                                      73887   \n",
       "1  1991                  20.04                                      79768   \n",
       "2  1992                  19.32                                      76957   \n",
       "3  1993                  17.01                                      74130   \n",
       "4  1994                  15.86                                      65962   \n",
       "\n",
       "   Coffe Imports (In 1K 60-kg bags) Calendar Year 137c  \\\n",
       "0                                             100082     \n",
       "1                                              97310     \n",
       "2                                             103653     \n",
       "3                                             101530     \n",
       "4                                             100811     \n",
       "\n",
       "   Coffe Produciton (In 1K 60-kg bags) crop year  \\\n",
       "0                                          93230   \n",
       "1                                         101269   \n",
       "2                                          98523   \n",
       "3                                          91762   \n",
       "4                                          93314   \n",
       "\n",
       "   Domestic Consumption (In 1K 60-kg bags)  ICO composite (USD $/lb)  \\\n",
       "0                                    19509                      0.72   \n",
       "1                                    20228                      0.67   \n",
       "2                                    20951                      0.53   \n",
       "3                                    21098                      0.62   \n",
       "4                                    21360                      1.34   \n",
       "\n",
       "   Inventories (In 1K 60-kg bags)  \\\n",
       "0                           15619   \n",
       "1                           13200   \n",
       "2                           16843   \n",
       "3                           14218   \n",
       "4                           12667   \n",
       "\n",
       "   re-exports (In 1K 60-kg bags) Calendar Year 35c  WTI ave closing price USD  \n",
       "0                                             8769                      24.53  \n",
       "1                                             9770                      21.54  \n",
       "2                                            10691                      20.58  \n",
       "3                                            11041                      18.43  \n",
       "4                                            12833                      17.20  "
      ]
     },
     "execution_count": 5,
     "metadata": {},
     "output_type": "execute_result"
    }
   ],
   "source": [
    "# Create dataframe for running decision tree\n",
    "# This was done to upload existing code with similar variables\n",
    "# Main Data set: data_df\n",
    "\n",
    "data_df = df.drop(\"retail\", axis=1)\n",
    "target = df[\"retail\"]\n",
    "#target\n",
    "Years = df[\"Year\"]\n",
    "\n",
    "feature_names = data_df.columns\n",
    "data_df.head()"
   ]
  },
  {
   "cell_type": "code",
   "execution_count": 6,
   "metadata": {},
   "outputs": [
    {
     "name": "stdout",
     "output_type": "stream",
     "text": [
      "(29, 10)\n",
      "(29,)\n"
     ]
    }
   ],
   "source": [
    "# Create dataframe for running decision tree\n",
    "# This was done to upload existing code with similar variables\n",
    "# Main Data set: data_df\n",
    "\n",
    "x = df.drop(\"retail\", axis=1)\n",
    "y = df[\"retail\"]\n",
    "target = y\n",
    "data_df = x\n",
    "print(x.shape)\n",
    "print(y.shape)"
   ]
  },
  {
   "cell_type": "markdown",
   "metadata": {},
   "source": [
    "Old Code. Should not work past this point with curretn data set."
   ]
  },
  {
   "cell_type": "code",
   "execution_count": 7,
   "metadata": {},
   "outputs": [],
   "source": [
    "from sklearn.model_selection import train_test_split\n",
    "X_train, X_test, y_train, y_test = train_test_split(data_df, target, random_state=42)"
   ]
  },
  {
   "cell_type": "code",
   "execution_count": 8,
   "metadata": {},
   "outputs": [
    {
     "data": {
      "text/plain": [
       "0.8938980754720416"
      ]
     },
     "execution_count": 8,
     "metadata": {},
     "output_type": "execute_result"
    }
   ],
   "source": [
    "#from sklearn.ensemble import RandomForestRegressor\n",
    "rf = RandomForestRegressor(n_estimators=200)\n",
    "rf = rf.fit(X_train, y_train)\n",
    "rf.score(X_test, y_test)"
   ]
  },
  {
   "cell_type": "code",
   "execution_count": 9,
   "metadata": {},
   "outputs": [
    {
     "name": "stdout",
     "output_type": "stream",
     "text": [
      "Test Acc: 0.894\n"
     ]
    }
   ],
   "source": [
    "print('Test Acc: %.3f' % rf.score(X_test, y_test))"
   ]
  },
  {
   "cell_type": "code",
   "execution_count": 10,
   "metadata": {},
   "outputs": [
    {
     "name": "stdout",
     "output_type": "stream",
     "text": [
      "Training Data Score: 0.9613\n",
      "Testing Data Score: 0.8939\n"
     ]
    }
   ],
   "source": [
    "print(f\"Training Data Score: {rf.score(X_train, y_train).round(decimals=4)}\")\n",
    "print(f\"Testing Data Score: {rf.score(X_test, y_test).round(decimals=4)}\")"
   ]
  },
  {
   "cell_type": "code",
   "execution_count": 11,
   "metadata": {},
   "outputs": [],
   "source": [
    "featrue_influence = sorted(zip(rf.feature_importances_.round(decimals=4), feature_names), reverse=True)"
   ]
  },
  {
   "cell_type": "code",
   "execution_count": 12,
   "metadata": {},
   "outputs": [
    {
     "data": {
      "text/html": [
       "<div>\n",
       "<style scoped>\n",
       "    .dataframe tbody tr th:only-of-type {\n",
       "        vertical-align: middle;\n",
       "    }\n",
       "\n",
       "    .dataframe tbody tr th {\n",
       "        vertical-align: top;\n",
       "    }\n",
       "\n",
       "    .dataframe thead th {\n",
       "        text-align: right;\n",
       "    }\n",
       "</style>\n",
       "<table border=\"1\" class=\"dataframe\">\n",
       "  <thead>\n",
       "    <tr style=\"text-align: right;\">\n",
       "      <th></th>\n",
       "      <th>0</th>\n",
       "      <th>1</th>\n",
       "    </tr>\n",
       "  </thead>\n",
       "  <tbody>\n",
       "    <tr>\n",
       "      <th>0</th>\n",
       "      <td>0.5724</td>\n",
       "      <td>ICO composite (USD $/lb)</td>\n",
       "    </tr>\n",
       "    <tr>\n",
       "      <th>1</th>\n",
       "      <td>0.0791</td>\n",
       "      <td>re-exports (In 1K 60-kg bags) Calendar Year 35c</td>\n",
       "    </tr>\n",
       "    <tr>\n",
       "      <th>2</th>\n",
       "      <td>0.0650</td>\n",
       "      <td>Brent ave closing USD</td>\n",
       "    </tr>\n",
       "    <tr>\n",
       "      <th>3</th>\n",
       "      <td>0.0578</td>\n",
       "      <td>Coffe Produciton (In 1K 60-kg bags) crop year</td>\n",
       "    </tr>\n",
       "    <tr>\n",
       "      <th>4</th>\n",
       "      <td>0.0559</td>\n",
       "      <td>Domestic Consumption (In 1K 60-kg bags)</td>\n",
       "    </tr>\n",
       "    <tr>\n",
       "      <th>5</th>\n",
       "      <td>0.0432</td>\n",
       "      <td>Year</td>\n",
       "    </tr>\n",
       "    <tr>\n",
       "      <th>6</th>\n",
       "      <td>0.0410</td>\n",
       "      <td>Inventories (In 1K 60-kg bags)</td>\n",
       "    </tr>\n",
       "    <tr>\n",
       "      <th>7</th>\n",
       "      <td>0.0401</td>\n",
       "      <td>Coffe Export (In 1K 60-kg bags) crop year</td>\n",
       "    </tr>\n",
       "    <tr>\n",
       "      <th>8</th>\n",
       "      <td>0.0366</td>\n",
       "      <td>WTI ave closing price USD</td>\n",
       "    </tr>\n",
       "    <tr>\n",
       "      <th>9</th>\n",
       "      <td>0.0089</td>\n",
       "      <td>Coffe Imports (In 1K 60-kg bags) Calendar Year...</td>\n",
       "    </tr>\n",
       "  </tbody>\n",
       "</table>\n",
       "</div>"
      ],
      "text/plain": [
       "        0                                                  1\n",
       "0  0.5724                           ICO composite (USD $/lb)\n",
       "1  0.0791    re-exports (In 1K 60-kg bags) Calendar Year 35c\n",
       "2  0.0650                              Brent ave closing USD\n",
       "3  0.0578      Coffe Produciton (In 1K 60-kg bags) crop year\n",
       "4  0.0559            Domestic Consumption (In 1K 60-kg bags)\n",
       "5  0.0432                                               Year\n",
       "6  0.0410                     Inventories (In 1K 60-kg bags)\n",
       "7  0.0401          Coffe Export (In 1K 60-kg bags) crop year\n",
       "8  0.0366                          WTI ave closing price USD\n",
       "9  0.0089  Coffe Imports (In 1K 60-kg bags) Calendar Year..."
      ]
     },
     "execution_count": 12,
     "metadata": {},
     "output_type": "execute_result"
    }
   ],
   "source": [
    "featrue_influence_df = pd.DataFrame(featrue_influence)\n",
    "featrue_influence_df"
   ]
  },
  {
   "cell_type": "code",
   "execution_count": 87,
   "metadata": {},
   "outputs": [
    {
     "name": "stdout",
     "output_type": "stream",
     "text": [
      "(21,)\n",
      "(8,)\n"
     ]
    }
   ],
   "source": [
    "print(y_train.shape)\n",
    "print(y_test.shape)"
   ]
  },
  {
   "cell_type": "code",
   "execution_count": 125,
   "metadata": {},
   "outputs": [],
   "source": [
    "three_feature_df = data_df.drop(columns= ['Year',\n",
    "                                         'Domestic Consumption (In 1K 60-kg bags)',\n",
    "                                         'Coffe Produciton (In 1K 60-kg bags) crop year',\n",
    "                                         'Brent ave closing USD',\n",
    "                \n",
    "                                         're-exports (In 1K 60-kg bags) Calendar Year 35c',\n",
    "                                         'Inventories (In 1K 60-kg bags)',\n",
    "                                         'Coffe Export (In 1K 60-kg bags) crop year',\n",
    "                                         'WTI ave closing price USD',\n",
    "                                         'Coffe Imports (In 1K 60-kg bags) Calendar Year 137c'\n",
    "                                         ])"
   ]
  },
  {
   "cell_type": "code",
   "execution_count": 126,
   "metadata": {},
   "outputs": [
    {
     "name": "stdout",
     "output_type": "stream",
     "text": [
      "(29, 9)\n"
     ]
    }
   ],
   "source": [
    "print(three_feature_df.shape)"
   ]
  },
  {
   "cell_type": "code",
   "execution_count": 127,
   "metadata": {},
   "outputs": [
    {
     "data": {
      "text/html": [
       "<div>\n",
       "<style scoped>\n",
       "    .dataframe tbody tr th:only-of-type {\n",
       "        vertical-align: middle;\n",
       "    }\n",
       "\n",
       "    .dataframe tbody tr th {\n",
       "        vertical-align: top;\n",
       "    }\n",
       "\n",
       "    .dataframe thead th {\n",
       "        text-align: right;\n",
       "    }\n",
       "</style>\n",
       "<table border=\"1\" class=\"dataframe\">\n",
       "  <thead>\n",
       "    <tr style=\"text-align: right;\">\n",
       "      <th></th>\n",
       "      <th>Year</th>\n",
       "      <th>Brent ave closing USD</th>\n",
       "      <th>Coffe Imports (In 1K 60-kg bags) Calendar Year 137c</th>\n",
       "      <th>Coffe Produciton (In 1K 60-kg bags) crop year</th>\n",
       "      <th>Domestic Consumption (In 1K 60-kg bags)</th>\n",
       "      <th>ICO composite (USD $/lb)</th>\n",
       "      <th>Inventories (In 1K 60-kg bags)</th>\n",
       "      <th>re-exports (In 1K 60-kg bags) Calendar Year 35c</th>\n",
       "      <th>WTI ave closing price USD</th>\n",
       "    </tr>\n",
       "  </thead>\n",
       "  <tbody>\n",
       "    <tr>\n",
       "      <th>0</th>\n",
       "      <td>1990</td>\n",
       "      <td>23.76</td>\n",
       "      <td>100082</td>\n",
       "      <td>93230</td>\n",
       "      <td>19509</td>\n",
       "      <td>0.72</td>\n",
       "      <td>15619</td>\n",
       "      <td>8769</td>\n",
       "      <td>24.53</td>\n",
       "    </tr>\n",
       "  </tbody>\n",
       "</table>\n",
       "</div>"
      ],
      "text/plain": [
       "   Year  Brent ave closing USD  \\\n",
       "0  1990                  23.76   \n",
       "\n",
       "   Coffe Imports (In 1K 60-kg bags) Calendar Year 137c  \\\n",
       "0                                             100082     \n",
       "\n",
       "   Coffe Produciton (In 1K 60-kg bags) crop year  \\\n",
       "0                                          93230   \n",
       "\n",
       "   Domestic Consumption (In 1K 60-kg bags)  ICO composite (USD $/lb)  \\\n",
       "0                                    19509                      0.72   \n",
       "\n",
       "   Inventories (In 1K 60-kg bags)  \\\n",
       "0                           15619   \n",
       "\n",
       "   re-exports (In 1K 60-kg bags) Calendar Year 35c  WTI ave closing price USD  \n",
       "0                                             8769                      24.53  "
      ]
     },
     "execution_count": 127,
     "metadata": {},
     "output_type": "execute_result"
    }
   ],
   "source": [
    "three_feature_df.head(1)"
   ]
  },
  {
   "cell_type": "code",
   "execution_count": 129,
   "metadata": {},
   "outputs": [
    {
     "ename": "IndentationError",
     "evalue": "unindent does not match any outer indentation level (<tokenize>, line 6)",
     "output_type": "error",
     "traceback": [
      "\u001b[1;36m  File \u001b[1;32m\"<tokenize>\"\u001b[1;36m, line \u001b[1;32m6\u001b[0m\n\u001b[1;33m    'Brent ave closing USD',\u001b[0m\n\u001b[1;37m    ^\u001b[0m\n\u001b[1;31mIndentationError\u001b[0m\u001b[1;31m:\u001b[0m unindent does not match any outer indentation level\n"
     ]
    }
   ],
   "source": [
    "#two_feature_df = data_df.drop(columns= ['Coffe Imports (In 1K 60-kg bags) Calendar Year 137c',\n",
    "                                         're-exports (In 1K 60-kg bags) Calendar Year 35c',\n",
    "                                         'Inventories (In 1K 60-kg bags)',\n",
    "                                         'Coffe Export (In 1K 60-kg bags) crop year',\n",
    "                                         'Coffe Produciton (In 1K 60-kg bags) crop year',\n",
    "                                        'Brent ave closing USD',\n",
    "                                         'Domestic Consumption (In 1K 60-kg bags)',\n",
    "                                         'Brent ave closing USD',\n",
    "                                         'WTI ave closing price USD'])"
   ]
  },
  {
   "cell_type": "code",
   "execution_count": 130,
   "metadata": {},
   "outputs": [],
   "source": [
    "#two_feature_df"
   ]
  },
  {
   "cell_type": "code",
   "execution_count": 131,
   "metadata": {},
   "outputs": [],
   "source": [
    "X_train, X_test, y_train, y_test = train_test_split(three_feature_df, target, random_state=42)"
   ]
  },
  {
   "cell_type": "code",
   "execution_count": 132,
   "metadata": {},
   "outputs": [
    {
     "data": {
      "text/plain": [
       "0.9054748910663152"
      ]
     },
     "execution_count": 132,
     "metadata": {},
     "output_type": "execute_result"
    }
   ],
   "source": [
    "optimized_model = RandomForestRegressor(n_estimators=200)\n",
    "optimized_model= optimized_model.fit(X_train, y_train)\n",
    "optimized_model.score(X_test, y_test)"
   ]
  },
  {
   "cell_type": "code",
   "execution_count": 133,
   "metadata": {},
   "outputs": [
    {
     "name": "stdout",
     "output_type": "stream",
     "text": [
      "Training Data Score: 0.9621\n",
      "Testing Data Score: 0.9055\n"
     ]
    }
   ],
   "source": [
    "print(f\"Training Data Score: {optimized_model.score(X_train, y_train).round(decimals=4)}\")\n",
    "print(f\"Testing Data Score: {optimized_model.score(X_test, y_test).round(decimals=4)}\")"
   ]
  },
  {
   "cell_type": "code",
   "execution_count": null,
   "metadata": {},
   "outputs": [],
   "source": []
  },
  {
   "cell_type": "markdown",
   "metadata": {},
   "source": [
    "# Predicting price with: Year ICO indicator, and Brent OIL"
   ]
  },
  {
   "cell_type": "code",
   "execution_count": null,
   "metadata": {},
   "outputs": [],
   "source": [
    "# Three feature Inputs: Inputs \n",
    "y_pred_three = optimized_model.predict(three_feature_df)"
   ]
  },
  {
   "cell_type": "code",
   "execution_count": null,
   "metadata": {},
   "outputs": [],
   "source": [
    "x_ax = Years\n",
    "plt.plot(x_ax, target, linewidth=2, label=\"Original\", color =\"green\")\n",
    "plt.plot(x_ax, y_pred_three, linewidth=3.0, label=\"Predicted\", color = \"red\")\n",
    "plt.title(\"Predicted Retail Price-Economic Model\")\n",
    "plt.xlabel('1990-2018')\n",
    "plt.ylabel('Retail values (USD/lb)')\n",
    "plt.legend(loc='best',fancybox=True, shadow=True)\n",
    "plt.grid(True)\n",
    "plt.savefig('Econimic_model.png')\n",
    "plt.show() "
   ]
  },
  {
   "cell_type": "code",
   "execution_count": null,
   "metadata": {},
   "outputs": [],
   "source": [
    "print(f\"Training Data Score: {optimized_model.score(X_train, y_train)}\")\n",
    "print(f\"Testing Data Score: {optimized_model.score(X_test, y_test)}\")"
   ]
  },
  {
   "cell_type": "markdown",
   "metadata": {},
   "source": [
    "# Prediction Retal price with: Year and ICO indicator only"
   ]
  },
  {
   "cell_type": "code",
   "execution_count": null,
   "metadata": {},
   "outputs": [],
   "source": [
    "X_train, X_test, y_train, y_test = train_test_split(two_feature_df, target, random_state=42)"
   ]
  },
  {
   "cell_type": "code",
   "execution_count": null,
   "metadata": {},
   "outputs": [],
   "source": [
    "optimized_model = RandomForestRegressor(n_estimators=200)\n",
    "optimized_model= optimized_model.fit(X_train, y_train)\n",
    "optimized_model.score(X_test, y_test)"
   ]
  },
  {
   "cell_type": "code",
   "execution_count": null,
   "metadata": {},
   "outputs": [],
   "source": [
    "# Two feature Inputs: Inputs \n",
    "y_pred_two = optimized_model.predict(two_feature_df)"
   ]
  },
  {
   "cell_type": "code",
   "execution_count": null,
   "metadata": {},
   "outputs": [],
   "source": [
    "x_ax = Years\n",
    "plt.plot(x_ax, target, linewidth=2, label=\"Original\", color =\"green\")\n",
    "plt.plot(x_ax, y_pred_bs, linewidth=3.0, label=\"Predicted\", color = \"red\")\n",
    "plt.title(\"Predicted Retail Price-Economic Model\")\n",
    "plt.xlabel('1990-2018')\n",
    "plt.ylabel('Retail values (USD/lb)')\n",
    "plt.legend(loc='best',fancybox=True, shadow=True)\n",
    "plt.grid(True)\n",
    "plt.savefig('Econimic_model.png')\n",
    "plt.show() "
   ]
  },
  {
   "cell_type": "code",
   "execution_count": null,
   "metadata": {},
   "outputs": [],
   "source": [
    "print(f\"Training Data Score: {optimized_model.score(X_train, y_train).round(decimals=4)}\")\n",
    "print(f\"Testing Data Score: {optimized_model.score(X_test, y_test).round(decimals=4)}\")"
   ]
  },
  {
   "cell_type": "code",
   "execution_count": null,
   "metadata": {},
   "outputs": [],
   "source": [
    "two_feature_df.head(1)"
   ]
  },
  {
   "cell_type": "code",
   "execution_count": null,
   "metadata": {},
   "outputs": [],
   "source": []
  }
 ],
 "metadata": {
  "kernelspec": {
   "display_name": "Python [conda env:PythonData]",
   "language": "python",
   "name": "conda-env-PythonData-py"
  },
  "language_info": {
   "codemirror_mode": {
    "name": "ipython",
    "version": 3
   },
   "file_extension": ".py",
   "mimetype": "text/x-python",
   "name": "python",
   "nbconvert_exporter": "python",
   "pygments_lexer": "ipython3",
   "version": "3.6.10"
  }
 },
 "nbformat": 4,
 "nbformat_minor": 4
}
